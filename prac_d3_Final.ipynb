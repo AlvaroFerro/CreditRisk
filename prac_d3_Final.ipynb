{
 "cells": [
  {
   "cell_type": "markdown",
   "metadata": {
    "ExecuteTime": {
     "end_time": "2019-05-15T21:29:00.770627Z",
     "start_time": "2019-05-15T21:28:59.068546Z"
    }
   },
   "source": [
    "# Práctica 3"
   ]
  },
  {
   "cell_type": "markdown",
   "metadata": {},
   "source": [
    "Miembros del equipo:\n",
    "- Jorge Casan Vázquez\n",
    "- Luis Llera \n",
    "- Álvaro Ferro\n",
    "- Victor Miguel Sempere\n",
    "- Ricardo Ocaña\n",
    "- Álvaro Rodriguez"
   ]
  },
  {
   "cell_type": "markdown",
   "metadata": {},
   "source": [
    "Siguiendo con esta práctica vamos a proceder a la carga de librerías y ficheros creados en las dos anteriores."
   ]
  },
  {
   "cell_type": "code",
   "execution_count": null,
   "metadata": {},
   "outputs": [],
   "source": [
    "import pandas as pd\n",
    "import numpy as np\n",
    "import matplotlib.pyplot as plt\n",
    "import seaborn as sns\n",
    "%matplotlib inline"
   ]
  },
  {
   "cell_type": "markdown",
   "metadata": {},
   "source": [
    "### Read data"
   ]
  },
  {
   "cell_type": "markdown",
   "metadata": {},
   "source": [
    "Leemos los datos creados previamente"
   ]
  },
  {
   "cell_type": "code",
   "execution_count": 2,
   "metadata": {
    "ExecuteTime": {
     "end_time": "2019-05-15T21:29:01.825376Z",
     "start_time": "2019-05-15T21:29:00.778620Z"
    }
   },
   "outputs": [
    {
     "name": "stderr",
     "output_type": "stream",
     "text": [
      "E:\\Anaconda3\\lib\\site-packages\\IPython\\core\\interactiveshell.py:2785: DtypeWarning: Columns (3) have mixed types. Specify dtype option on import or set low_memory=False.\n",
      "  interactivity=interactivity, compiler=compiler, result=result)\n"
     ]
    }
   ],
   "source": [
    "df_train = pd.read_csv('./prosperLoanData_train.csv')\n",
    "df_val = pd.read_csv('./prosperLoanData_val.csv')\n",
    "df_oot = pd.read_csv('./prosperLoanData_oot.csv')"
   ]
  },
  {
   "cell_type": "markdown",
   "metadata": {},
   "source": [
    "Quitamos indeterminados"
   ]
  },
  {
   "cell_type": "code",
   "execution_count": 3,
   "metadata": {
    "ExecuteTime": {
     "end_time": "2019-05-15T21:29:01.860313Z",
     "start_time": "2019-05-15T21:29:01.832970Z"
    }
   },
   "outputs": [],
   "source": [
    "#drop indeterminates from OOT\n",
    "df_oot = df_oot.loc[df_oot.indeterm==False]"
   ]
  },
  {
   "cell_type": "code",
   "execution_count": 4,
   "metadata": {
    "ExecuteTime": {
     "end_time": "2019-05-15T21:29:02.411374Z",
     "start_time": "2019-05-15T21:29:02.361592Z"
    }
   },
   "outputs": [],
   "source": [
    "#get the serialized data from previous session\n",
    "import pickle\n",
    "input_d2  = pickle.load(open('./output_d2.pkl', 'rb'))\n",
    "corr_data, features = input_d2['corr_data'], input_d2['features']\n",
    "df_iv, df_psi = input_d2['iv_df'], input_d2['psi_df']"
   ]
  },
  {
   "cell_type": "markdown",
   "metadata": {},
   "source": [
    "## Filter out features"
   ]
  },
  {
   "cell_type": "markdown",
   "metadata": {},
   "source": [
    "Tratamos las variables, quitando primero las que tienen correlaciones altas."
   ]
  },
  {
   "cell_type": "markdown",
   "metadata": {},
   "source": [
    "### Drop highly correlated features"
   ]
  },
  {
   "cell_type": "code",
   "execution_count": 5,
   "metadata": {
    "ExecuteTime": {
     "end_time": "2019-05-15T21:29:04.428722Z",
     "start_time": "2019-05-15T21:29:04.326572Z"
    }
   },
   "outputs": [
    {
     "data": {
      "text/plain": [
       "[('CreditScoreRangeLower', 1, CreditScoreRangeUpper    1.0\n",
       "  Name: CreditScoreRangeLower, dtype: float64),\n",
       " ('CreditScoreRangeUpper', 1, CreditScoreRangeLower    1.0\n",
       "  Name: CreditScoreRangeUpper, dtype: float64),\n",
       " ('CurrentCreditLines', 2, OpenCreditLines          0.957426\n",
       "  OpenRevolvingAccounts    0.853989\n",
       "  Name: CurrentCreditLines, dtype: float64),\n",
       " ('OpenCreditLines', 2, CurrentCreditLines       0.957426\n",
       "  OpenRevolvingAccounts    0.888447\n",
       "  Name: OpenCreditLines, dtype: float64),\n",
       " ('TotalCreditLinespast7years', 1, TotalTrades    0.942083\n",
       "  Name: TotalCreditLinespast7years, dtype: float64),\n",
       " ('OpenRevolvingAccounts', 2, CurrentCreditLines    0.853989\n",
       "  OpenCreditLines       0.888447\n",
       "  Name: OpenRevolvingAccounts, dtype: float64),\n",
       " ('TotalTrades', 1, TotalCreditLinespast7years    0.942083\n",
       "  Name: TotalTrades, dtype: float64)]"
      ]
     },
     "execution_count": 5,
     "metadata": {},
     "output_type": "execute_result"
    }
   ],
   "source": [
    "corr_data"
   ]
  },
  {
   "cell_type": "code",
   "execution_count": 6,
   "metadata": {
    "ExecuteTime": {
     "end_time": "2019-05-15T21:29:05.932319Z",
     "start_time": "2019-05-15T21:29:05.864461Z"
    }
   },
   "outputs": [
    {
     "name": "stdout",
     "output_type": "stream",
     "text": [
      "Drop: CreditScoreRangeUpper\n",
      "Drop: OpenCreditLines\n",
      "Drop: OpenRevolvingAccounts\n",
      "Drop: TotalCreditLinespast7years\n"
     ]
    }
   ],
   "source": [
    "#run through the iv ranking, and drop features if they are correlated with any feature with better ranking\n",
    "feats_sorted = df_iv.feature.values.tolist()\n",
    "\n",
    "def get_uncorr_feats(corr_data, feats_sorted):\n",
    "    \"\"\"Handles the corr_data structure, to drop highlly correlated features\n",
    "    \n",
    "    Args:\n",
    "        corr_data: List of tuples containing the correlation info\n",
    "        feats_sorted: List, with the features to be sorted / dropped\n",
    "        \n",
    "    Returns:\n",
    "        List with the features that have no correlation\n",
    "    \"\"\"\n",
    "    features_keep = feats_sorted[:1]\n",
    "    for feat in feats_sorted[1:]:\n",
    "        #capture the correlation tuple\n",
    "        crr_data = [crr for crr in corr_data if crr[0] == feat]\n",
    "        if len(crr_data):\n",
    "            #if there is a 'hit' with a feature in features_keep, do not include it\n",
    "            hit = len(set(crr_data[0][2].index.tolist()) & set(features_keep)) > 0\n",
    "            if hit:\n",
    "                print ('Drop: ' + feat)\n",
    "            else:\n",
    "                features_keep.append(feat)    \n",
    "        else:\n",
    "            features_keep.append(feat)\n",
    "    return features_keep\n",
    "\n",
    "features_keep = get_uncorr_feats(corr_data, feats_sorted)"
   ]
  },
  {
   "cell_type": "code",
   "execution_count": 7,
   "metadata": {
    "ExecuteTime": {
     "end_time": "2019-05-15T21:29:08.006966Z",
     "start_time": "2019-05-15T21:29:07.992017Z"
    }
   },
   "outputs": [],
   "source": [
    "#Manually handling: keeping MonthlyLoanPayment\n",
    "features_keep.remove('LoanOriginalAmount')\n",
    "features_keep.append('MonthlyLoanPayment')"
   ]
  },
  {
   "cell_type": "code",
   "execution_count": 8,
   "metadata": {
    "ExecuteTime": {
     "end_time": "2019-05-15T21:29:08.949388Z",
     "start_time": "2019-05-15T21:29:08.926962Z"
    }
   },
   "outputs": [
    {
     "data": {
      "text/plain": [
       "(25, 21, 7)"
      ]
     },
     "execution_count": 8,
     "metadata": {},
     "output_type": "execute_result"
    }
   ],
   "source": [
    "len(features), len(features_keep), len(corr_data)"
   ]
  },
  {
   "cell_type": "markdown",
   "metadata": {},
   "source": [
    "### Drop features with low IV"
   ]
  },
  {
   "cell_type": "markdown",
   "metadata": {},
   "source": [
    "Quitamos aquellas variables cuyo valor informativo sea menor a 0.02"
   ]
  },
  {
   "cell_type": "code",
   "execution_count": 9,
   "metadata": {
    "ExecuteTime": {
     "end_time": "2019-05-15T21:29:25.926972Z",
     "start_time": "2019-05-15T21:29:25.832601Z"
    }
   },
   "outputs": [
    {
     "data": {
      "text/html": [
       "<div>\n",
       "<style scoped>\n",
       "    .dataframe tbody tr th:only-of-type {\n",
       "        vertical-align: middle;\n",
       "    }\n",
       "\n",
       "    .dataframe tbody tr th {\n",
       "        vertical-align: top;\n",
       "    }\n",
       "\n",
       "    .dataframe thead th {\n",
       "        text-align: right;\n",
       "    }\n",
       "</style>\n",
       "<table border=\"1\" class=\"dataframe\">\n",
       "  <thead>\n",
       "    <tr style=\"text-align: right;\">\n",
       "      <th></th>\n",
       "      <th>feature</th>\n",
       "      <th>IV</th>\n",
       "    </tr>\n",
       "  </thead>\n",
       "  <tbody>\n",
       "    <tr>\n",
       "      <th>24</th>\n",
       "      <td>LoanFirstDefaultedCycleNumberQ</td>\n",
       "      <td>inf</td>\n",
       "    </tr>\n",
       "    <tr>\n",
       "      <th>19</th>\n",
       "      <td>IncomeRange</td>\n",
       "      <td>0.145180</td>\n",
       "    </tr>\n",
       "    <tr>\n",
       "      <th>20</th>\n",
       "      <td>StatedMonthlyIncome</td>\n",
       "      <td>0.119612</td>\n",
       "    </tr>\n",
       "    <tr>\n",
       "      <th>22</th>\n",
       "      <td>LoanOriginalAmount</td>\n",
       "      <td>0.115468</td>\n",
       "    </tr>\n",
       "    <tr>\n",
       "      <th>21</th>\n",
       "      <td>ScorexChangeAtTimeOfListing</td>\n",
       "      <td>0.108946</td>\n",
       "    </tr>\n",
       "    <tr>\n",
       "      <th>5</th>\n",
       "      <td>CreditScoreRangeLower</td>\n",
       "      <td>0.087758</td>\n",
       "    </tr>\n",
       "    <tr>\n",
       "      <th>6</th>\n",
       "      <td>CreditScoreRangeUpper</td>\n",
       "      <td>0.087758</td>\n",
       "    </tr>\n",
       "    <tr>\n",
       "      <th>1</th>\n",
       "      <td>Occupation</td>\n",
       "      <td>0.078836</td>\n",
       "    </tr>\n",
       "    <tr>\n",
       "      <th>7</th>\n",
       "      <td>CurrentCreditLines</td>\n",
       "      <td>0.074093</td>\n",
       "    </tr>\n",
       "    <tr>\n",
       "      <th>2</th>\n",
       "      <td>EmploymentStatus</td>\n",
       "      <td>0.073630</td>\n",
       "    </tr>\n",
       "    <tr>\n",
       "      <th>12</th>\n",
       "      <td>InquiriesLast6Months</td>\n",
       "      <td>0.070370</td>\n",
       "    </tr>\n",
       "    <tr>\n",
       "      <th>8</th>\n",
       "      <td>OpenCreditLines</td>\n",
       "      <td>0.066407</td>\n",
       "    </tr>\n",
       "    <tr>\n",
       "      <th>17</th>\n",
       "      <td>TotalTrades</td>\n",
       "      <td>0.037262</td>\n",
       "    </tr>\n",
       "    <tr>\n",
       "      <th>10</th>\n",
       "      <td>OpenRevolvingAccounts</td>\n",
       "      <td>0.034334</td>\n",
       "    </tr>\n",
       "    <tr>\n",
       "      <th>9</th>\n",
       "      <td>TotalCreditLinespast7years</td>\n",
       "      <td>0.031738</td>\n",
       "    </tr>\n",
       "    <tr>\n",
       "      <th>4</th>\n",
       "      <td>IsBorrowerHomeowner</td>\n",
       "      <td>0.024579</td>\n",
       "    </tr>\n",
       "    <tr>\n",
       "      <th>15</th>\n",
       "      <td>AmountDelinquent</td>\n",
       "      <td>0.023654</td>\n",
       "    </tr>\n",
       "    <tr>\n",
       "      <th>14</th>\n",
       "      <td>CurrentDelinquencies</td>\n",
       "      <td>0.018481</td>\n",
       "    </tr>\n",
       "    <tr>\n",
       "      <th>11</th>\n",
       "      <td>OpenRevolvingMonthlyPayment</td>\n",
       "      <td>0.013353</td>\n",
       "    </tr>\n",
       "    <tr>\n",
       "      <th>13</th>\n",
       "      <td>TotalInquiries</td>\n",
       "      <td>0.009793</td>\n",
       "    </tr>\n",
       "    <tr>\n",
       "      <th>18</th>\n",
       "      <td>TradesNeverDelinquent (percentage)</td>\n",
       "      <td>0.008130</td>\n",
       "    </tr>\n",
       "    <tr>\n",
       "      <th>0</th>\n",
       "      <td>ListingCategory (numeric)</td>\n",
       "      <td>0.006998</td>\n",
       "    </tr>\n",
       "    <tr>\n",
       "      <th>3</th>\n",
       "      <td>EmploymentStatusDuration</td>\n",
       "      <td>0.004271</td>\n",
       "    </tr>\n",
       "    <tr>\n",
       "      <th>16</th>\n",
       "      <td>DelinquenciesLast7Years</td>\n",
       "      <td>0.004008</td>\n",
       "    </tr>\n",
       "    <tr>\n",
       "      <th>23</th>\n",
       "      <td>PercentFunded</td>\n",
       "      <td>0.003687</td>\n",
       "    </tr>\n",
       "  </tbody>\n",
       "</table>\n",
       "</div>"
      ],
      "text/plain": [
       "                               feature        IV\n",
       "24      LoanFirstDefaultedCycleNumberQ       inf\n",
       "19                         IncomeRange  0.145180\n",
       "20                 StatedMonthlyIncome  0.119612\n",
       "22                  LoanOriginalAmount  0.115468\n",
       "21         ScorexChangeAtTimeOfListing  0.108946\n",
       "5                CreditScoreRangeLower  0.087758\n",
       "6                CreditScoreRangeUpper  0.087758\n",
       "1                           Occupation  0.078836\n",
       "7                   CurrentCreditLines  0.074093\n",
       "2                     EmploymentStatus  0.073630\n",
       "12                InquiriesLast6Months  0.070370\n",
       "8                      OpenCreditLines  0.066407\n",
       "17                         TotalTrades  0.037262\n",
       "10               OpenRevolvingAccounts  0.034334\n",
       "9           TotalCreditLinespast7years  0.031738\n",
       "4                  IsBorrowerHomeowner  0.024579\n",
       "15                    AmountDelinquent  0.023654\n",
       "14                CurrentDelinquencies  0.018481\n",
       "11         OpenRevolvingMonthlyPayment  0.013353\n",
       "13                      TotalInquiries  0.009793\n",
       "18  TradesNeverDelinquent (percentage)  0.008130\n",
       "0            ListingCategory (numeric)  0.006998\n",
       "3             EmploymentStatusDuration  0.004271\n",
       "16             DelinquenciesLast7Years  0.004008\n",
       "23                       PercentFunded  0.003687"
      ]
     },
     "execution_count": 9,
     "metadata": {},
     "output_type": "execute_result"
    }
   ],
   "source": [
    "# IV filtering with this treshold\n",
    "TH_IV = 0.02\n",
    "df_iv"
   ]
  },
  {
   "cell_type": "code",
   "execution_count": 10,
   "metadata": {
    "ExecuteTime": {
     "end_time": "2019-05-15T21:29:40.198467Z",
     "start_time": "2019-05-15T21:29:40.168231Z"
    }
   },
   "outputs": [
    {
     "data": {
      "text/plain": [
       "(25, 21, 13)"
      ]
     },
     "execution_count": 10,
     "metadata": {},
     "output_type": "execute_result"
    }
   ],
   "source": [
    "# capture low IV features\n",
    "low_iv_feats = df_iv.loc[df_iv.IV < TH_IV, 'feature'].values.tolist()\n",
    "features_keep_iv = list(set(features_keep) - set(low_iv_feats))\n",
    "len(features), len(features_keep), len(features_keep_iv)"
   ]
  },
  {
   "cell_type": "markdown",
   "metadata": {},
   "source": [
    "### Drop unstable features"
   ]
  },
  {
   "cell_type": "markdown",
   "metadata": {},
   "source": [
    "Quitamos aquellas cuyo PSI sea superior al 0.25 lo cual indica alta inestabilidad."
   ]
  },
  {
   "cell_type": "code",
   "execution_count": 11,
   "metadata": {
    "ExecuteTime": {
     "end_time": "2019-05-15T21:30:20.993098Z",
     "start_time": "2019-05-15T21:30:20.903295Z"
    }
   },
   "outputs": [
    {
     "data": {
      "text/html": [
       "<div>\n",
       "<style scoped>\n",
       "    .dataframe tbody tr th:only-of-type {\n",
       "        vertical-align: middle;\n",
       "    }\n",
       "\n",
       "    .dataframe tbody tr th {\n",
       "        vertical-align: top;\n",
       "    }\n",
       "\n",
       "    .dataframe thead th {\n",
       "        text-align: right;\n",
       "    }\n",
       "</style>\n",
       "<table border=\"1\" class=\"dataframe\">\n",
       "  <thead>\n",
       "    <tr style=\"text-align: right;\">\n",
       "      <th></th>\n",
       "      <th>feature</th>\n",
       "      <th>PSI</th>\n",
       "    </tr>\n",
       "  </thead>\n",
       "  <tbody>\n",
       "    <tr>\n",
       "      <th>4</th>\n",
       "      <td>IsBorrowerHomeowner</td>\n",
       "      <td>0.000000e+00</td>\n",
       "    </tr>\n",
       "    <tr>\n",
       "      <th>23</th>\n",
       "      <td>PercentFunded</td>\n",
       "      <td>2.141008e-08</td>\n",
       "    </tr>\n",
       "    <tr>\n",
       "      <th>15</th>\n",
       "      <td>AmountDelinquent</td>\n",
       "      <td>7.428038e-05</td>\n",
       "    </tr>\n",
       "    <tr>\n",
       "      <th>14</th>\n",
       "      <td>CurrentDelinquencies</td>\n",
       "      <td>3.430635e-04</td>\n",
       "    </tr>\n",
       "    <tr>\n",
       "      <th>16</th>\n",
       "      <td>DelinquenciesLast7Years</td>\n",
       "      <td>1.055222e-03</td>\n",
       "    </tr>\n",
       "    <tr>\n",
       "      <th>13</th>\n",
       "      <td>TotalInquiries</td>\n",
       "      <td>3.452111e-03</td>\n",
       "    </tr>\n",
       "    <tr>\n",
       "      <th>12</th>\n",
       "      <td>InquiriesLast6Months</td>\n",
       "      <td>4.000090e-03</td>\n",
       "    </tr>\n",
       "    <tr>\n",
       "      <th>19</th>\n",
       "      <td>IncomeRange</td>\n",
       "      <td>9.661644e-03</td>\n",
       "    </tr>\n",
       "    <tr>\n",
       "      <th>18</th>\n",
       "      <td>TradesNeverDelinquent (percentage)</td>\n",
       "      <td>9.802307e-03</td>\n",
       "    </tr>\n",
       "    <tr>\n",
       "      <th>20</th>\n",
       "      <td>StatedMonthlyIncome</td>\n",
       "      <td>1.143998e-02</td>\n",
       "    </tr>\n",
       "    <tr>\n",
       "      <th>9</th>\n",
       "      <td>TotalCreditLinespast7years</td>\n",
       "      <td>1.401206e-02</td>\n",
       "    </tr>\n",
       "    <tr>\n",
       "      <th>17</th>\n",
       "      <td>TotalTrades</td>\n",
       "      <td>1.462368e-02</td>\n",
       "    </tr>\n",
       "    <tr>\n",
       "      <th>1</th>\n",
       "      <td>Occupation</td>\n",
       "      <td>1.775389e-02</td>\n",
       "    </tr>\n",
       "    <tr>\n",
       "      <th>7</th>\n",
       "      <td>CurrentCreditLines</td>\n",
       "      <td>1.799375e-02</td>\n",
       "    </tr>\n",
       "    <tr>\n",
       "      <th>10</th>\n",
       "      <td>OpenRevolvingAccounts</td>\n",
       "      <td>2.199308e-02</td>\n",
       "    </tr>\n",
       "    <tr>\n",
       "      <th>8</th>\n",
       "      <td>OpenCreditLines</td>\n",
       "      <td>2.774108e-02</td>\n",
       "    </tr>\n",
       "    <tr>\n",
       "      <th>21</th>\n",
       "      <td>ScorexChangeAtTimeOfListing</td>\n",
       "      <td>2.969534e-02</td>\n",
       "    </tr>\n",
       "    <tr>\n",
       "      <th>6</th>\n",
       "      <td>CreditScoreRangeUpper</td>\n",
       "      <td>3.220120e-02</td>\n",
       "    </tr>\n",
       "    <tr>\n",
       "      <th>5</th>\n",
       "      <td>CreditScoreRangeLower</td>\n",
       "      <td>3.220120e-02</td>\n",
       "    </tr>\n",
       "    <tr>\n",
       "      <th>3</th>\n",
       "      <td>EmploymentStatusDuration</td>\n",
       "      <td>3.250906e-02</td>\n",
       "    </tr>\n",
       "    <tr>\n",
       "      <th>11</th>\n",
       "      <td>OpenRevolvingMonthlyPayment</td>\n",
       "      <td>4.459233e-02</td>\n",
       "    </tr>\n",
       "    <tr>\n",
       "      <th>0</th>\n",
       "      <td>ListingCategory (numeric)</td>\n",
       "      <td>2.378023e-01</td>\n",
       "    </tr>\n",
       "    <tr>\n",
       "      <th>22</th>\n",
       "      <td>LoanOriginalAmount</td>\n",
       "      <td>2.832083e-01</td>\n",
       "    </tr>\n",
       "    <tr>\n",
       "      <th>24</th>\n",
       "      <td>LoanFirstDefaultedCycleNumberQ</td>\n",
       "      <td>4.391166e-01</td>\n",
       "    </tr>\n",
       "    <tr>\n",
       "      <th>2</th>\n",
       "      <td>EmploymentStatus</td>\n",
       "      <td>5.479469e-01</td>\n",
       "    </tr>\n",
       "  </tbody>\n",
       "</table>\n",
       "</div>"
      ],
      "text/plain": [
       "                               feature           PSI\n",
       "4                  IsBorrowerHomeowner  0.000000e+00\n",
       "23                       PercentFunded  2.141008e-08\n",
       "15                    AmountDelinquent  7.428038e-05\n",
       "14                CurrentDelinquencies  3.430635e-04\n",
       "16             DelinquenciesLast7Years  1.055222e-03\n",
       "13                      TotalInquiries  3.452111e-03\n",
       "12                InquiriesLast6Months  4.000090e-03\n",
       "19                         IncomeRange  9.661644e-03\n",
       "18  TradesNeverDelinquent (percentage)  9.802307e-03\n",
       "20                 StatedMonthlyIncome  1.143998e-02\n",
       "9           TotalCreditLinespast7years  1.401206e-02\n",
       "17                         TotalTrades  1.462368e-02\n",
       "1                           Occupation  1.775389e-02\n",
       "7                   CurrentCreditLines  1.799375e-02\n",
       "10               OpenRevolvingAccounts  2.199308e-02\n",
       "8                      OpenCreditLines  2.774108e-02\n",
       "21         ScorexChangeAtTimeOfListing  2.969534e-02\n",
       "6                CreditScoreRangeUpper  3.220120e-02\n",
       "5                CreditScoreRangeLower  3.220120e-02\n",
       "3             EmploymentStatusDuration  3.250906e-02\n",
       "11         OpenRevolvingMonthlyPayment  4.459233e-02\n",
       "0            ListingCategory (numeric)  2.378023e-01\n",
       "22                  LoanOriginalAmount  2.832083e-01\n",
       "24      LoanFirstDefaultedCycleNumberQ  4.391166e-01\n",
       "2                     EmploymentStatus  5.479469e-01"
      ]
     },
     "execution_count": 11,
     "metadata": {},
     "output_type": "execute_result"
    }
   ],
   "source": [
    "# PSI filtering with this treshold\n",
    "TH_PSI = 0.25\n",
    "df_psi"
   ]
  },
  {
   "cell_type": "code",
   "execution_count": 12,
   "metadata": {
    "ExecuteTime": {
     "end_time": "2019-05-15T21:30:21.189747Z",
     "start_time": "2019-05-15T21:30:21.156916Z"
    }
   },
   "outputs": [
    {
     "data": {
      "text/plain": [
       "(25, 21, 13, 11)"
      ]
     },
     "execution_count": 12,
     "metadata": {},
     "output_type": "execute_result"
    }
   ],
   "source": [
    "# capture high (unstable) features\n",
    "high_psi_features = df_psi.loc[df_psi.PSI > TH_PSI, 'feature'].values.tolist()\n",
    "features_keep_psi = list(set(features_keep_iv) - set(high_psi_features))\n",
    "len(features), len(features_keep), len(features_keep_iv), len(features_keep_psi)"
   ]
  },
  {
   "cell_type": "code",
   "execution_count": 13,
   "metadata": {
    "ExecuteTime": {
     "end_time": "2019-05-15T21:30:23.068466Z",
     "start_time": "2019-05-15T21:30:23.042542Z"
    }
   },
   "outputs": [
    {
     "data": {
      "text/plain": [
       "['CurrentCreditLines',\n",
       " 'TotalTrades',\n",
       " 'StatedMonthlyIncome',\n",
       " 'IsBorrowerHomeowner',\n",
       " 'IncomeRange',\n",
       " 'Occupation',\n",
       " 'AmountDelinquent',\n",
       " 'InquiriesLast6Months',\n",
       " 'MonthlyLoanPayment',\n",
       " 'ScorexChangeAtTimeOfListing',\n",
       " 'CreditScoreRangeLower']"
      ]
     },
     "execution_count": 13,
     "metadata": {},
     "output_type": "execute_result"
    }
   ],
   "source": [
    "final_features = features_keep_psi\n",
    "final_features"
   ]
  },
  {
   "cell_type": "markdown",
   "metadata": {},
   "source": [
    "## Preprocessing - Set up bucketing - \"Trameado\""
   ]
  },
  {
   "cell_type": "markdown",
   "metadata": {},
   "source": [
    "Vamos a asignar tramos tanto a las numéricas como a las categóricas."
   ]
  },
  {
   "cell_type": "markdown",
   "metadata": {},
   "source": [
    "#### For numerical features"
   ]
  },
  {
   "cell_type": "code",
   "execution_count": 14,
   "metadata": {
    "ExecuteTime": {
     "end_time": "2019-05-15T21:30:29.805950Z",
     "start_time": "2019-05-15T21:30:29.698613Z"
    }
   },
   "outputs": [],
   "source": [
    "def get_bucket_numfeature(df, feat_col, n_bins, input_slider=(0., 100.)):\n",
    "    \"\"\"Cuts a numeric feature in 'n_bins', balacing data in percentiles\n",
    "    \n",
    "    Args:\n",
    "        df: Pandas DataFrame with the input data\n",
    "        feat_col: Name of the column with the input feature\n",
    "        obj_col: Name of the column with the target \n",
    "        n_bins: Number of cuts expected\n",
    "        input_slider: Range considered for the bucketing\n",
    "        \n",
    "    Returns:\n",
    "        List with the cuts corresponding to this feature\n",
    "    \"\"\"\n",
    "    #get the numeric input from the dual slider\n",
    "    perc_sliders = [v/100. for v in input_slider]\n",
    "    var_lims = df[feat_col].quantile([perc_sliders[0], perc_sliders[1]]).values\n",
    "    v_min, v_max = var_lims[0], var_lims[1]\n",
    "    #filter the dataset using the slider input\n",
    "    df_cut = df.loc[(df[feat_col] <= v_max) & (df[feat_col] >= v_min)][[feat_col]]\n",
    "    cuts = df_cut[feat_col].quantile(np.linspace(perc_sliders[0], perc_sliders[1], n_bins + 1)).values.tolist()\n",
    "    cuts = sorted(list(set(cuts)))\n",
    "    return cuts\n",
    "\n",
    "def format_dummy_col(feat_col, dummy_col):\n",
    "    \"\"\"Handles column names for dummy data\n",
    "    \n",
    "    Args:\n",
    "        feat_col: Name of the column with the input feature\n",
    "        dummy_col: String of the dummy column \n",
    "        \n",
    "    Returns:\n",
    "        Dummy column with better formatting\n",
    "    \"\"\"\n",
    "    out = dummy_col.replace(\"(\", \"\")\\\n",
    "                   .replace(\"]\", \"\")\\\n",
    "                   .replace(\".0\", \"\")\\\n",
    "                   .replace(\", \", \"|\")\n",
    "    \n",
    "    return feat_col + '_' + out\n",
    "    \n",
    "def apply_bucketing_num(df, feat_col, cuts):\n",
    "    \"\"\"Applies bucketing to numerical feature\n",
    "    \n",
    "    Args:\n",
    "        df: Pandas Dataframe with the input data\n",
    "        feat_col: Name of the column with the input feature\n",
    "        cuts: Cuts that will be applied to the input data\n",
    "        \n",
    "    Returns:\n",
    "        Pandas dataframe with dummy columns\n",
    "    \"\"\"\n",
    "    cut_col = '{}_cut'.format(feat_col)\n",
    "    if len(cuts) == 2:\n",
    "        cuts = [cuts[0], np.mean(cuts), cuts[1]]\n",
    "    df[cut_col] = pd.cut(df[feat_col], cuts, include_lowest=True, precision=0)\n",
    "    if df[cut_col].isna().any():\n",
    "        df[cut_col] = df[cut_col].cat.add_categories([\"NA\"])\n",
    "        df[cut_col] = df[cut_col].fillna(\"NA\")\n",
    "        \n",
    "    dummies_df = pd.get_dummies(df[cut_col], drop_first=True)\n",
    "    dummies_df.columns = [format_dummy_col(feat_col, str(col)) for col in dummies_df.columns.values.tolist()]\n",
    "    \n",
    "    return dummies_df"
   ]
  },
  {
   "cell_type": "markdown",
   "metadata": {},
   "source": [
    "#### For categorical features"
   ]
  },
  {
   "cell_type": "code",
   "execution_count": 15,
   "metadata": {
    "ExecuteTime": {
     "end_time": "2019-05-15T21:30:31.225015Z",
     "start_time": "2019-05-15T21:30:31.182046Z"
    }
   },
   "outputs": [],
   "source": [
    "def get_bucket_catfeature(df, feat_col, n_bins):\n",
    "    \"\"\"Cuts a categorical feature in 'n_bins', keeping categories with highest volume\n",
    "    \n",
    "    Args:\n",
    "        df: Pandas DataFrame with the input data\n",
    "        feat_col: Name of the column with the input feature\n",
    "        n_bins: Number of cuts expected\n",
    "        \n",
    "    Returns:\n",
    "        List with the cuts corresponding to this feature\n",
    "    \"\"\"\n",
    "    cuts = df.groupby(feat_col)[feat_col].count().sort_values(ascending=False)[:int(n_bins)].index.values.tolist()\n",
    "    \n",
    "    return cuts\n",
    "\n",
    "def apply_bucketing_cat(df, feat_col, cuts):\n",
    "    \"\"\"Applies bucketing to categorical feature\n",
    "    \n",
    "    Args:\n",
    "        df: Pandas Dataframe with the input data\n",
    "        feat_col: Name of the column with the input feature\n",
    "        cuts: Cuts that will be applied to the input data\n",
    "        \n",
    "    Returns:\n",
    "        Pandas dataframe with dummy columns\n",
    "    \"\"\"\n",
    "    cut_col = '{}_cut'.format(feat_col)\n",
    "    df[cut_col] = df[feat_col]\n",
    "    df.loc[~df[cut_col].isin(cuts), cut_col] = 'Other'\n",
    "    if df[cut_col].isna().any():\n",
    "        df[cut_col] = df[cut_col].fillna(\"NA\")\n",
    "        \n",
    "    dummies_df = pd.get_dummies(df[cut_col], prefix=feat_col, drop_first=True)\n",
    "    \n",
    "    return dummies_df"
   ]
  },
  {
   "cell_type": "code",
   "execution_count": 16,
   "metadata": {
    "ExecuteTime": {
     "end_time": "2019-05-15T21:30:32.192798Z",
     "start_time": "2019-05-15T21:30:32.056734Z"
    }
   },
   "outputs": [
    {
     "data": {
      "text/html": [
       "<div>\n",
       "<style scoped>\n",
       "    .dataframe tbody tr th:only-of-type {\n",
       "        vertical-align: middle;\n",
       "    }\n",
       "\n",
       "    .dataframe tbody tr th {\n",
       "        vertical-align: top;\n",
       "    }\n",
       "\n",
       "    .dataframe thead th {\n",
       "        text-align: right;\n",
       "    }\n",
       "</style>\n",
       "<table border=\"1\" class=\"dataframe\">\n",
       "  <thead>\n",
       "    <tr style=\"text-align: right;\">\n",
       "      <th></th>\n",
       "      <th>CreditScoreRangeLower_640|680</th>\n",
       "      <th>CreditScoreRangeLower_680|700</th>\n",
       "      <th>CreditScoreRangeLower_700|720</th>\n",
       "      <th>CreditScoreRangeLower_720|760</th>\n",
       "      <th>CreditScoreRangeLower_760|880</th>\n",
       "    </tr>\n",
       "  </thead>\n",
       "  <tbody>\n",
       "    <tr>\n",
       "      <th>0</th>\n",
       "      <td>1</td>\n",
       "      <td>0</td>\n",
       "      <td>0</td>\n",
       "      <td>0</td>\n",
       "      <td>0</td>\n",
       "    </tr>\n",
       "    <tr>\n",
       "      <th>1</th>\n",
       "      <td>1</td>\n",
       "      <td>0</td>\n",
       "      <td>0</td>\n",
       "      <td>0</td>\n",
       "      <td>0</td>\n",
       "    </tr>\n",
       "    <tr>\n",
       "      <th>2</th>\n",
       "      <td>1</td>\n",
       "      <td>0</td>\n",
       "      <td>0</td>\n",
       "      <td>0</td>\n",
       "      <td>0</td>\n",
       "    </tr>\n",
       "    <tr>\n",
       "      <th>3</th>\n",
       "      <td>0</td>\n",
       "      <td>1</td>\n",
       "      <td>0</td>\n",
       "      <td>0</td>\n",
       "      <td>0</td>\n",
       "    </tr>\n",
       "    <tr>\n",
       "      <th>4</th>\n",
       "      <td>0</td>\n",
       "      <td>1</td>\n",
       "      <td>0</td>\n",
       "      <td>0</td>\n",
       "      <td>0</td>\n",
       "    </tr>\n",
       "    <tr>\n",
       "      <th>5</th>\n",
       "      <td>0</td>\n",
       "      <td>0</td>\n",
       "      <td>0</td>\n",
       "      <td>0</td>\n",
       "      <td>1</td>\n",
       "    </tr>\n",
       "    <tr>\n",
       "      <th>6</th>\n",
       "      <td>0</td>\n",
       "      <td>0</td>\n",
       "      <td>0</td>\n",
       "      <td>0</td>\n",
       "      <td>0</td>\n",
       "    </tr>\n",
       "    <tr>\n",
       "      <th>7</th>\n",
       "      <td>0</td>\n",
       "      <td>0</td>\n",
       "      <td>1</td>\n",
       "      <td>0</td>\n",
       "      <td>0</td>\n",
       "    </tr>\n",
       "    <tr>\n",
       "      <th>8</th>\n",
       "      <td>0</td>\n",
       "      <td>0</td>\n",
       "      <td>0</td>\n",
       "      <td>1</td>\n",
       "      <td>0</td>\n",
       "    </tr>\n",
       "    <tr>\n",
       "      <th>9</th>\n",
       "      <td>0</td>\n",
       "      <td>0</td>\n",
       "      <td>0</td>\n",
       "      <td>0</td>\n",
       "      <td>1</td>\n",
       "    </tr>\n",
       "  </tbody>\n",
       "</table>\n",
       "</div>"
      ],
      "text/plain": [
       "   CreditScoreRangeLower_640|680  CreditScoreRangeLower_680|700  \\\n",
       "0                              1                              0   \n",
       "1                              1                              0   \n",
       "2                              1                              0   \n",
       "3                              0                              1   \n",
       "4                              0                              1   \n",
       "5                              0                              0   \n",
       "6                              0                              0   \n",
       "7                              0                              0   \n",
       "8                              0                              0   \n",
       "9                              0                              0   \n",
       "\n",
       "   CreditScoreRangeLower_700|720  CreditScoreRangeLower_720|760  \\\n",
       "0                              0                              0   \n",
       "1                              0                              0   \n",
       "2                              0                              0   \n",
       "3                              0                              0   \n",
       "4                              0                              0   \n",
       "5                              0                              0   \n",
       "6                              0                              0   \n",
       "7                              1                              0   \n",
       "8                              0                              1   \n",
       "9                              0                              0   \n",
       "\n",
       "   CreditScoreRangeLower_760|880  \n",
       "0                              0  \n",
       "1                              0  \n",
       "2                              0  \n",
       "3                              0  \n",
       "4                              0  \n",
       "5                              1  \n",
       "6                              0  \n",
       "7                              0  \n",
       "8                              0  \n",
       "9                              1  "
      ]
     },
     "execution_count": 16,
     "metadata": {},
     "output_type": "execute_result"
    }
   ],
   "source": [
    "#example of numerical bucketing\n",
    "cuts_num = get_bucket_numfeature(df_train, 'CreditScoreRangeLower', 6)\n",
    "dumm_num = apply_bucketing_num(df_train, 'CreditScoreRangeLower', cuts_num)\n",
    "dumm_num[:10]"
   ]
  },
  {
   "cell_type": "code",
   "execution_count": 17,
   "metadata": {
    "ExecuteTime": {
     "end_time": "2019-05-15T21:30:33.717526Z",
     "start_time": "2019-05-15T21:30:33.599902Z"
    }
   },
   "outputs": [
    {
     "data": {
      "text/html": [
       "<div>\n",
       "<style scoped>\n",
       "    .dataframe tbody tr th:only-of-type {\n",
       "        vertical-align: middle;\n",
       "    }\n",
       "\n",
       "    .dataframe tbody tr th {\n",
       "        vertical-align: top;\n",
       "    }\n",
       "\n",
       "    .dataframe thead th {\n",
       "        text-align: right;\n",
       "    }\n",
       "</style>\n",
       "<table border=\"1\" class=\"dataframe\">\n",
       "  <thead>\n",
       "    <tr style=\"text-align: right;\">\n",
       "      <th></th>\n",
       "      <th>Occupation_Analyst</th>\n",
       "      <th>Occupation_Computer Programmer</th>\n",
       "      <th>Occupation_Executive</th>\n",
       "      <th>Occupation_Other</th>\n",
       "      <th>Occupation_Professional</th>\n",
       "    </tr>\n",
       "  </thead>\n",
       "  <tbody>\n",
       "    <tr>\n",
       "      <th>0</th>\n",
       "      <td>0</td>\n",
       "      <td>0</td>\n",
       "      <td>0</td>\n",
       "      <td>1</td>\n",
       "      <td>0</td>\n",
       "    </tr>\n",
       "    <tr>\n",
       "      <th>1</th>\n",
       "      <td>0</td>\n",
       "      <td>0</td>\n",
       "      <td>0</td>\n",
       "      <td>1</td>\n",
       "      <td>0</td>\n",
       "    </tr>\n",
       "    <tr>\n",
       "      <th>2</th>\n",
       "      <td>0</td>\n",
       "      <td>0</td>\n",
       "      <td>0</td>\n",
       "      <td>1</td>\n",
       "      <td>0</td>\n",
       "    </tr>\n",
       "    <tr>\n",
       "      <th>3</th>\n",
       "      <td>0</td>\n",
       "      <td>0</td>\n",
       "      <td>0</td>\n",
       "      <td>1</td>\n",
       "      <td>0</td>\n",
       "    </tr>\n",
       "    <tr>\n",
       "      <th>4</th>\n",
       "      <td>0</td>\n",
       "      <td>0</td>\n",
       "      <td>0</td>\n",
       "      <td>1</td>\n",
       "      <td>0</td>\n",
       "    </tr>\n",
       "    <tr>\n",
       "      <th>5</th>\n",
       "      <td>0</td>\n",
       "      <td>0</td>\n",
       "      <td>0</td>\n",
       "      <td>0</td>\n",
       "      <td>1</td>\n",
       "    </tr>\n",
       "    <tr>\n",
       "      <th>6</th>\n",
       "      <td>0</td>\n",
       "      <td>0</td>\n",
       "      <td>0</td>\n",
       "      <td>0</td>\n",
       "      <td>1</td>\n",
       "    </tr>\n",
       "    <tr>\n",
       "      <th>7</th>\n",
       "      <td>0</td>\n",
       "      <td>0</td>\n",
       "      <td>0</td>\n",
       "      <td>1</td>\n",
       "      <td>0</td>\n",
       "    </tr>\n",
       "    <tr>\n",
       "      <th>8</th>\n",
       "      <td>0</td>\n",
       "      <td>0</td>\n",
       "      <td>0</td>\n",
       "      <td>1</td>\n",
       "      <td>0</td>\n",
       "    </tr>\n",
       "    <tr>\n",
       "      <th>9</th>\n",
       "      <td>0</td>\n",
       "      <td>0</td>\n",
       "      <td>0</td>\n",
       "      <td>1</td>\n",
       "      <td>0</td>\n",
       "    </tr>\n",
       "  </tbody>\n",
       "</table>\n",
       "</div>"
      ],
      "text/plain": [
       "   Occupation_Analyst  Occupation_Computer Programmer  Occupation_Executive  \\\n",
       "0                   0                               0                     0   \n",
       "1                   0                               0                     0   \n",
       "2                   0                               0                     0   \n",
       "3                   0                               0                     0   \n",
       "4                   0                               0                     0   \n",
       "5                   0                               0                     0   \n",
       "6                   0                               0                     0   \n",
       "7                   0                               0                     0   \n",
       "8                   0                               0                     0   \n",
       "9                   0                               0                     0   \n",
       "\n",
       "   Occupation_Other  Occupation_Professional  \n",
       "0                 1                        0  \n",
       "1                 1                        0  \n",
       "2                 1                        0  \n",
       "3                 1                        0  \n",
       "4                 1                        0  \n",
       "5                 0                        1  \n",
       "6                 0                        1  \n",
       "7                 1                        0  \n",
       "8                 1                        0  \n",
       "9                 1                        0  "
      ]
     },
     "execution_count": 17,
     "metadata": {},
     "output_type": "execute_result"
    }
   ],
   "source": [
    "#example of categorical bucketing\n",
    "cuts_cat = get_bucket_catfeature(df_train, 'Occupation', 6)\n",
    "dumm_cat = apply_bucketing_cat(df_train, 'Occupation', cuts_cat)\n",
    "dumm_cat[:10]"
   ]
  },
  {
   "cell_type": "markdown",
   "metadata": {},
   "source": [
    "### Set up bucketing, then apply it"
   ]
  },
  {
   "cell_type": "code",
   "execution_count": 18,
   "metadata": {
    "ExecuteTime": {
     "end_time": "2019-05-15T21:30:48.438303Z",
     "start_time": "2019-05-15T21:30:48.393550Z"
    }
   },
   "outputs": [],
   "source": [
    "# A: \n",
    "def get_bucket_feature(df, feat_col, n_bins=6):\n",
    "    \"\"\"Trains bucketing in a feature, whether if it is numerical\n",
    "    or categorical\n",
    "    \n",
    "    Args:\n",
    "        df: Pandas Dataframe with the input data\n",
    "        feat_col: Name of the column with the input feature\n",
    "        n_bins: Cuts that will be applied to the input data\n",
    "        \n",
    "    Returns:\n",
    "        List with the cuts learned from the data\n",
    "    \"\"\"\n",
    "    if df[feat_col].dtypes == object:\n",
    "        cuts = get_bucket_catfeature(df, feat_col, n_bins)\n",
    "    else:\n",
    "        cuts = get_bucket_numfeature(df, feat_col, n_bins)\n",
    "    return cuts\n",
    "\n",
    "def get_bucketing_allfeatures(df, features, n_bins=6):\n",
    "    \"\"\"Trains bucketing in all given features of a dataset\n",
    "    \n",
    "    Args:\n",
    "        df: Pandas Dataframe with the input data\n",
    "        features: Features which bucketing will be learnt\n",
    "        n_bins: Cuts that will be applied to the input data\n",
    "        \n",
    "    Returns:\n",
    "        Dict, containing all features and its corresponding\n",
    "        bucketing. For example:\n",
    "         {'feature1': cuts1,\n",
    "          'feature2': cuts2}  \n",
    "    \"\"\"\n",
    "    out_dict = {}\n",
    "    for feature in features:\n",
    "        cuts = get_bucket_feature(df, feature, n_bins)\n",
    "        out_dict[feature] = cuts\n",
    "    return out_dict"
   ]
  },
  {
   "cell_type": "code",
   "execution_count": 19,
   "metadata": {
    "ExecuteTime": {
     "end_time": "2019-05-15T21:30:49.264311Z",
     "start_time": "2019-05-15T21:30:48.609506Z"
    }
   },
   "outputs": [
    {
     "data": {
      "text/plain": [
       "{'CurrentCreditLines': [0.0, 6.0, 9.0, 12.0, 40.0],\n",
       " 'TotalTrades': [1.0, 14.0, 21.0, 30.0, 118.0],\n",
       " 'StatedMonthlyIncome': [0.0, 3100.0, 4583.333333, 6666.666667, 483333.333333],\n",
       " 'IsBorrowerHomeowner': [0.0, 1.0],\n",
       " 'IncomeRange': ['$25,000-49,999',\n",
       "  '$50,000-74,999',\n",
       "  '$100,000+',\n",
       "  '$75,000-99,999'],\n",
       " 'Occupation': ['Other', 'Professional', 'Computer Programmer', 'Executive'],\n",
       " 'AmountDelinquent': [0.0, 249209.0],\n",
       " 'InquiriesLast6Months': [0.0, 1.0, 2.0, 27.0],\n",
       " 'MonthlyLoanPayment': [0.0, 124.565, 180.74, 309.21, 2111.78],\n",
       " 'ScorexChangeAtTimeOfListing': [-209.0, -32.0, -3.0, 29.0, 257.0],\n",
       " 'CreditScoreRangeLower': [600.0, 660.0, 700.0, 740.0, 880.0]}"
      ]
     },
     "execution_count": 19,
     "metadata": {},
     "output_type": "execute_result"
    }
   ],
   "source": [
    "dict_bucketing = get_bucketing_allfeatures(df_train, final_features, n_bins=4)\n",
    "dict_bucketing"
   ]
  },
  {
   "cell_type": "code",
   "execution_count": 20,
   "metadata": {},
   "outputs": [
    {
     "data": {
      "text/plain": [
       "['CurrentCreditLines',\n",
       " 'TotalTrades',\n",
       " 'StatedMonthlyIncome',\n",
       " 'IsBorrowerHomeowner',\n",
       " 'IncomeRange',\n",
       " 'Occupation',\n",
       " 'AmountDelinquent',\n",
       " 'InquiriesLast6Months',\n",
       " 'MonthlyLoanPayment',\n",
       " 'ScorexChangeAtTimeOfListing',\n",
       " 'CreditScoreRangeLower']"
      ]
     },
     "execution_count": 20,
     "metadata": {},
     "output_type": "execute_result"
    }
   ],
   "source": [
    "final_features"
   ]
  },
  {
   "cell_type": "code",
   "execution_count": 21,
   "metadata": {
    "ExecuteTime": {
     "end_time": "2019-05-15T21:30:50.002323Z",
     "start_time": "2019-05-15T21:30:49.981716Z"
    }
   },
   "outputs": [
    {
     "data": {
      "text/plain": [
       "(11, 11)"
      ]
     },
     "execution_count": 21,
     "metadata": {},
     "output_type": "execute_result"
    }
   ],
   "source": [
    "len(final_features), len(dict_bucketing.keys())"
   ]
  },
  {
   "cell_type": "code",
   "execution_count": 22,
   "metadata": {
    "ExecuteTime": {
     "end_time": "2019-05-15T21:30:51.874287Z",
     "start_time": "2019-05-15T21:30:51.851120Z"
    }
   },
   "outputs": [],
   "source": [
    "def apply_bucketing(df, feat_col, cuts):\n",
    "    \"\"\"Applies a bucketing schema\n",
    "    \n",
    "    Args:\n",
    "        df: Pandas Dataframe with the input data\n",
    "        feat_col: Name of the column with the input feature\n",
    "        cuts: Cuts that will be applied to the input data\n",
    "        \n",
    "    Returns:\n",
    "        Pandas DataFrame with columns dummy columns\n",
    "    \"\"\"\n",
    "    if df[feat_col].dtypes == object:\n",
    "        df_buck = apply_bucketing_cat(df, feat_col, cuts)\n",
    "    else:\n",
    "        df_buck = apply_bucketing_num(df, feat_col, cuts)\n",
    "    return df_buck"
   ]
  },
  {
   "cell_type": "code",
   "execution_count": 23,
   "metadata": {
    "ExecuteTime": {
     "end_time": "2019-05-15T21:30:52.982076Z",
     "start_time": "2019-05-15T21:30:52.914430Z"
    }
   },
   "outputs": [
    {
     "data": {
      "text/html": [
       "<div>\n",
       "<style scoped>\n",
       "    .dataframe tbody tr th:only-of-type {\n",
       "        vertical-align: middle;\n",
       "    }\n",
       "\n",
       "    .dataframe tbody tr th {\n",
       "        vertical-align: top;\n",
       "    }\n",
       "\n",
       "    .dataframe thead th {\n",
       "        text-align: right;\n",
       "    }\n",
       "</style>\n",
       "<table border=\"1\" class=\"dataframe\">\n",
       "  <thead>\n",
       "    <tr style=\"text-align: right;\">\n",
       "      <th></th>\n",
       "      <th>CreditScoreRangeLower_660|700</th>\n",
       "      <th>CreditScoreRangeLower_700|740</th>\n",
       "      <th>CreditScoreRangeLower_740|880</th>\n",
       "    </tr>\n",
       "  </thead>\n",
       "  <tbody>\n",
       "    <tr>\n",
       "      <th>0</th>\n",
       "      <td>0</td>\n",
       "      <td>0</td>\n",
       "      <td>0</td>\n",
       "    </tr>\n",
       "    <tr>\n",
       "      <th>1</th>\n",
       "      <td>0</td>\n",
       "      <td>0</td>\n",
       "      <td>0</td>\n",
       "    </tr>\n",
       "    <tr>\n",
       "      <th>2</th>\n",
       "      <td>0</td>\n",
       "      <td>0</td>\n",
       "      <td>0</td>\n",
       "    </tr>\n",
       "    <tr>\n",
       "      <th>3</th>\n",
       "      <td>1</td>\n",
       "      <td>0</td>\n",
       "      <td>0</td>\n",
       "    </tr>\n",
       "    <tr>\n",
       "      <th>4</th>\n",
       "      <td>1</td>\n",
       "      <td>0</td>\n",
       "      <td>0</td>\n",
       "    </tr>\n",
       "  </tbody>\n",
       "</table>\n",
       "</div>"
      ],
      "text/plain": [
       "   CreditScoreRangeLower_660|700  CreditScoreRangeLower_700|740  \\\n",
       "0                              0                              0   \n",
       "1                              0                              0   \n",
       "2                              0                              0   \n",
       "3                              1                              0   \n",
       "4                              1                              0   \n",
       "\n",
       "   CreditScoreRangeLower_740|880  \n",
       "0                              0  \n",
       "1                              0  \n",
       "2                              0  \n",
       "3                              0  \n",
       "4                              0  "
      ]
     },
     "execution_count": 23,
     "metadata": {},
     "output_type": "execute_result"
    }
   ],
   "source": [
    "apply_bucketing(df_train, 'CreditScoreRangeLower', dict_bucketing['CreditScoreRangeLower']).head()"
   ]
  },
  {
   "cell_type": "code",
   "execution_count": 24,
   "metadata": {
    "ExecuteTime": {
     "end_time": "2019-05-15T21:30:55.360172Z",
     "start_time": "2019-05-15T21:30:54.013602Z"
    }
   },
   "outputs": [],
   "source": [
    "# Apply the bucketing\n",
    "\n",
    "# Keep each column dummy columns in independent lists\n",
    "list_df_tr, list_df_val, list_df_oot = [], [], []\n",
    "for feat in final_features:\n",
    "    list_df_tr.append(apply_bucketing(df_train, feat, dict_bucketing[feat]))\n",
    "    list_df_val.append(apply_bucketing(df_val, feat, dict_bucketing[feat]))\n",
    "    list_df_oot.append(apply_bucketing(df_oot, feat, dict_bucketing[feat]))\n",
    "\n",
    "# Then 'vertically' combine them\n",
    "df_tr_preproc = pd.concat(list_df_tr, axis=1)\n",
    "df_val_preproc = pd.concat(list_df_val, axis=1)\n",
    "df_oot_preproc = pd.concat(list_df_oot, axis=1)\n",
    "\n",
    "# Capture the name of all buckets in our dataset\n",
    "keep_cols_buck = df_tr_preproc.columns"
   ]
  },
  {
   "cell_type": "code",
   "execution_count": 25,
   "metadata": {},
   "outputs": [
    {
     "data": {
      "text/plain": [
       "((16987, 30), (12877, 33))"
      ]
     },
     "execution_count": 25,
     "metadata": {},
     "output_type": "execute_result"
    }
   ],
   "source": [
    "df_tr_preproc.shape, df_oot_preproc.shape"
   ]
  },
  {
   "cell_type": "code",
   "execution_count": 26,
   "metadata": {
    "ExecuteTime": {
     "end_time": "2019-05-15T21:30:56.366797Z",
     "start_time": "2019-05-15T21:30:56.349901Z"
    }
   },
   "outputs": [],
   "source": [
    "# Capture the target in each subset\n",
    "y_tr, y_val, y_oot = df_train['bad'], df_val['bad'], df_oot['bad']"
   ]
  },
  {
   "cell_type": "markdown",
   "metadata": {},
   "source": [
    "## Modeling"
   ]
  },
  {
   "cell_type": "markdown",
   "metadata": {},
   "source": [
    "En esta parte vamos a probar a usar varios modelos con el objetivo de ver cual se ajusta mejor a nuestros datos comparando métricas como el AUC."
   ]
  },
  {
   "cell_type": "markdown",
   "metadata": {},
   "source": [
    "### Logistic Regression"
   ]
  },
  {
   "cell_type": "code",
   "execution_count": 27,
   "metadata": {
    "ExecuteTime": {
     "end_time": "2019-05-15T21:31:04.519348Z",
     "start_time": "2019-05-15T21:31:04.314414Z"
    }
   },
   "outputs": [],
   "source": [
    "from sklearn.linear_model import LogisticRegression\n",
    "from sklearn import metrics"
   ]
  },
  {
   "cell_type": "code",
   "execution_count": 28,
   "metadata": {
    "ExecuteTime": {
     "end_time": "2019-05-15T21:31:04.875031Z",
     "start_time": "2019-05-15T21:31:04.859449Z"
    }
   },
   "outputs": [],
   "source": [
    "def get_auc(y_true, y_pred):\n",
    "    fpr, tpr, thresholds = metrics.roc_curve(y_true, y_pred)\n",
    "    return metrics.auc(fpr, tpr)"
   ]
  },
  {
   "cell_type": "code",
   "execution_count": 29,
   "metadata": {
    "ExecuteTime": {
     "end_time": "2019-05-15T21:31:07.303874Z",
     "start_time": "2019-05-15T21:31:06.535789Z"
    }
   },
   "outputs": [
    {
     "data": {
      "text/plain": [
       "[]"
      ]
     },
     "execution_count": 29,
     "metadata": {},
     "output_type": "execute_result"
    }
   ],
   "source": [
    "#check buckets correlations\n",
    "corr = df_tr_preproc[keep_cols_buck].corr()\n",
    "orig_features = keep_cols_buck.values.tolist()\n",
    "corr_TH = 0.75\n",
    "n_corr_list=[]\n",
    "corr_feats_list=[]\n",
    "for f in orig_features:\n",
    "    #get correlation entries for the feature\n",
    "    corr_f = corr[f][[col for col in orig_features if col!=f]]\n",
    "    #work with absolute value\n",
    "    corr_f_abs = corr_f.abs()\n",
    "    #get features above corr TH\n",
    "    corr_ht_th = corr_f_abs[corr_f_abs>corr_TH]\n",
    "    n_corr_list.append(corr_ht_th.shape[0])\n",
    "    corr_feats_list.append(corr_ht_th)\n",
    "\n",
    "corr_buckets = [(feat, n, feats_corr) for n, feats_corr, feat in zip(n_corr_list, corr_feats_list, orig_features) if n>0]\n",
    "corr_buckets"
   ]
  },
  {
   "cell_type": "code",
   "execution_count": 30,
   "metadata": {
    "ExecuteTime": {
     "end_time": "2019-05-15T21:31:07.807280Z",
     "start_time": "2019-05-15T21:31:07.782549Z"
    }
   },
   "outputs": [],
   "source": [
    "glm_cols = get_uncorr_feats(corr_buckets, orig_features)"
   ]
  },
  {
   "cell_type": "code",
   "execution_count": 31,
   "metadata": {},
   "outputs": [
    {
     "data": {
      "text/plain": [
       "['CurrentCreditLines_6|9',\n",
       " 'CurrentCreditLines_9|12',\n",
       " 'CurrentCreditLines_12|40',\n",
       " 'TotalTrades_14|21',\n",
       " 'TotalTrades_21|30',\n",
       " 'TotalTrades_30|118',\n",
       " 'StatedMonthlyIncome_3100|4583',\n",
       " 'StatedMonthlyIncome_4583|6667',\n",
       " 'StatedMonthlyIncome_6667|483333',\n",
       " 'IsBorrowerHomeowner_0.5|1',\n",
       " 'IncomeRange_$25,000-49,999',\n",
       " 'IncomeRange_$50,000-74,999',\n",
       " 'IncomeRange_$75,000-99,999',\n",
       " 'IncomeRange_Other',\n",
       " 'Occupation_Executive',\n",
       " 'Occupation_Other',\n",
       " 'Occupation_Professional',\n",
       " 'AmountDelinquent_124604|249209',\n",
       " 'InquiriesLast6Months_1|2',\n",
       " 'InquiriesLast6Months_2|27',\n",
       " 'MonthlyLoanPayment_125|181',\n",
       " 'MonthlyLoanPayment_181|309',\n",
       " 'MonthlyLoanPayment_309|2112',\n",
       " 'ScorexChangeAtTimeOfListing_-32|-3',\n",
       " 'ScorexChangeAtTimeOfListing_-3|29',\n",
       " 'ScorexChangeAtTimeOfListing_29|257',\n",
       " 'ScorexChangeAtTimeOfListing_NA',\n",
       " 'CreditScoreRangeLower_660|700',\n",
       " 'CreditScoreRangeLower_700|740',\n",
       " 'CreditScoreRangeLower_740|880']"
      ]
     },
     "execution_count": 31,
     "metadata": {},
     "output_type": "execute_result"
    }
   ],
   "source": [
    "glm_cols"
   ]
  },
  {
   "cell_type": "code",
   "execution_count": 32,
   "metadata": {
    "ExecuteTime": {
     "end_time": "2019-05-15T21:31:09.862098Z",
     "start_time": "2019-05-15T21:31:09.186937Z"
    }
   },
   "outputs": [
    {
     "data": {
      "text/plain": [
       "LogisticRegression(C=0.01, class_weight=None, dual=False, fit_intercept=True,\n",
       "          intercept_scaling=1, max_iter=100, multi_class='warn',\n",
       "          n_jobs=None, penalty='l2', random_state=None, solver='lbfgs',\n",
       "          tol=0.0001, verbose=0, warm_start=False)"
      ]
     },
     "execution_count": 32,
     "metadata": {},
     "output_type": "execute_result"
    }
   ],
   "source": [
    "#train first model\n",
    "lr = LogisticRegression(solver='lbfgs', C=0.01)\n",
    "lr.fit(df_tr_preproc[glm_cols], y_tr)"
   ]
  },
  {
   "cell_type": "code",
   "execution_count": 33,
   "metadata": {},
   "outputs": [
    {
     "data": {
      "text/html": [
       "<div>\n",
       "<style scoped>\n",
       "    .dataframe tbody tr th:only-of-type {\n",
       "        vertical-align: middle;\n",
       "    }\n",
       "\n",
       "    .dataframe tbody tr th {\n",
       "        vertical-align: top;\n",
       "    }\n",
       "\n",
       "    .dataframe thead th {\n",
       "        text-align: right;\n",
       "    }\n",
       "</style>\n",
       "<table border=\"1\" class=\"dataframe\">\n",
       "  <thead>\n",
       "    <tr style=\"text-align: right;\">\n",
       "      <th></th>\n",
       "      <th>CurrentCreditLines_6|9</th>\n",
       "      <th>CurrentCreditLines_9|12</th>\n",
       "      <th>CurrentCreditLines_12|40</th>\n",
       "      <th>TotalTrades_14|21</th>\n",
       "      <th>TotalTrades_21|30</th>\n",
       "      <th>TotalTrades_30|118</th>\n",
       "      <th>StatedMonthlyIncome_3100|4583</th>\n",
       "      <th>StatedMonthlyIncome_4583|6667</th>\n",
       "      <th>StatedMonthlyIncome_6667|483333</th>\n",
       "      <th>IsBorrowerHomeowner_0.5|1</th>\n",
       "      <th>...</th>\n",
       "      <th>MonthlyLoanPayment_125|181</th>\n",
       "      <th>MonthlyLoanPayment_181|309</th>\n",
       "      <th>MonthlyLoanPayment_309|2112</th>\n",
       "      <th>ScorexChangeAtTimeOfListing_-32|-3</th>\n",
       "      <th>ScorexChangeAtTimeOfListing_-3|29</th>\n",
       "      <th>ScorexChangeAtTimeOfListing_29|257</th>\n",
       "      <th>ScorexChangeAtTimeOfListing_NA</th>\n",
       "      <th>CreditScoreRangeLower_660|700</th>\n",
       "      <th>CreditScoreRangeLower_700|740</th>\n",
       "      <th>CreditScoreRangeLower_740|880</th>\n",
       "    </tr>\n",
       "  </thead>\n",
       "  <tbody>\n",
       "    <tr>\n",
       "      <th>0</th>\n",
       "      <td>1</td>\n",
       "      <td>0</td>\n",
       "      <td>0</td>\n",
       "      <td>1</td>\n",
       "      <td>0</td>\n",
       "      <td>0</td>\n",
       "      <td>1</td>\n",
       "      <td>0</td>\n",
       "      <td>0</td>\n",
       "      <td>1</td>\n",
       "      <td>...</td>\n",
       "      <td>1</td>\n",
       "      <td>0</td>\n",
       "      <td>0</td>\n",
       "      <td>0</td>\n",
       "      <td>0</td>\n",
       "      <td>0</td>\n",
       "      <td>1</td>\n",
       "      <td>0</td>\n",
       "      <td>0</td>\n",
       "      <td>0</td>\n",
       "    </tr>\n",
       "    <tr>\n",
       "      <th>1</th>\n",
       "      <td>0</td>\n",
       "      <td>0</td>\n",
       "      <td>0</td>\n",
       "      <td>0</td>\n",
       "      <td>0</td>\n",
       "      <td>0</td>\n",
       "      <td>1</td>\n",
       "      <td>0</td>\n",
       "      <td>0</td>\n",
       "      <td>0</td>\n",
       "      <td>...</td>\n",
       "      <td>1</td>\n",
       "      <td>0</td>\n",
       "      <td>0</td>\n",
       "      <td>0</td>\n",
       "      <td>0</td>\n",
       "      <td>0</td>\n",
       "      <td>1</td>\n",
       "      <td>0</td>\n",
       "      <td>0</td>\n",
       "      <td>0</td>\n",
       "    </tr>\n",
       "    <tr>\n",
       "      <th>2</th>\n",
       "      <td>0</td>\n",
       "      <td>0</td>\n",
       "      <td>0</td>\n",
       "      <td>1</td>\n",
       "      <td>0</td>\n",
       "      <td>0</td>\n",
       "      <td>0</td>\n",
       "      <td>0</td>\n",
       "      <td>0</td>\n",
       "      <td>1</td>\n",
       "      <td>...</td>\n",
       "      <td>0</td>\n",
       "      <td>0</td>\n",
       "      <td>0</td>\n",
       "      <td>0</td>\n",
       "      <td>1</td>\n",
       "      <td>0</td>\n",
       "      <td>0</td>\n",
       "      <td>0</td>\n",
       "      <td>0</td>\n",
       "      <td>0</td>\n",
       "    </tr>\n",
       "    <tr>\n",
       "      <th>3</th>\n",
       "      <td>0</td>\n",
       "      <td>0</td>\n",
       "      <td>0</td>\n",
       "      <td>0</td>\n",
       "      <td>1</td>\n",
       "      <td>0</td>\n",
       "      <td>0</td>\n",
       "      <td>1</td>\n",
       "      <td>0</td>\n",
       "      <td>0</td>\n",
       "      <td>...</td>\n",
       "      <td>1</td>\n",
       "      <td>0</td>\n",
       "      <td>0</td>\n",
       "      <td>0</td>\n",
       "      <td>0</td>\n",
       "      <td>0</td>\n",
       "      <td>1</td>\n",
       "      <td>1</td>\n",
       "      <td>0</td>\n",
       "      <td>0</td>\n",
       "    </tr>\n",
       "    <tr>\n",
       "      <th>4</th>\n",
       "      <td>1</td>\n",
       "      <td>0</td>\n",
       "      <td>0</td>\n",
       "      <td>1</td>\n",
       "      <td>0</td>\n",
       "      <td>0</td>\n",
       "      <td>0</td>\n",
       "      <td>0</td>\n",
       "      <td>0</td>\n",
       "      <td>1</td>\n",
       "      <td>...</td>\n",
       "      <td>1</td>\n",
       "      <td>0</td>\n",
       "      <td>0</td>\n",
       "      <td>0</td>\n",
       "      <td>0</td>\n",
       "      <td>0</td>\n",
       "      <td>1</td>\n",
       "      <td>1</td>\n",
       "      <td>0</td>\n",
       "      <td>0</td>\n",
       "    </tr>\n",
       "  </tbody>\n",
       "</table>\n",
       "<p>5 rows × 30 columns</p>\n",
       "</div>"
      ],
      "text/plain": [
       "   CurrentCreditLines_6|9  CurrentCreditLines_9|12  CurrentCreditLines_12|40  \\\n",
       "0                       1                        0                         0   \n",
       "1                       0                        0                         0   \n",
       "2                       0                        0                         0   \n",
       "3                       0                        0                         0   \n",
       "4                       1                        0                         0   \n",
       "\n",
       "   TotalTrades_14|21  TotalTrades_21|30  TotalTrades_30|118  \\\n",
       "0                  1                  0                   0   \n",
       "1                  0                  0                   0   \n",
       "2                  1                  0                   0   \n",
       "3                  0                  1                   0   \n",
       "4                  1                  0                   0   \n",
       "\n",
       "   StatedMonthlyIncome_3100|4583  StatedMonthlyIncome_4583|6667  \\\n",
       "0                              1                              0   \n",
       "1                              1                              0   \n",
       "2                              0                              0   \n",
       "3                              0                              1   \n",
       "4                              0                              0   \n",
       "\n",
       "   StatedMonthlyIncome_6667|483333  IsBorrowerHomeowner_0.5|1  \\\n",
       "0                                0                          1   \n",
       "1                                0                          0   \n",
       "2                                0                          1   \n",
       "3                                0                          0   \n",
       "4                                0                          1   \n",
       "\n",
       "               ...                MonthlyLoanPayment_125|181  \\\n",
       "0              ...                                         1   \n",
       "1              ...                                         1   \n",
       "2              ...                                         0   \n",
       "3              ...                                         1   \n",
       "4              ...                                         1   \n",
       "\n",
       "   MonthlyLoanPayment_181|309  MonthlyLoanPayment_309|2112  \\\n",
       "0                           0                            0   \n",
       "1                           0                            0   \n",
       "2                           0                            0   \n",
       "3                           0                            0   \n",
       "4                           0                            0   \n",
       "\n",
       "   ScorexChangeAtTimeOfListing_-32|-3  ScorexChangeAtTimeOfListing_-3|29  \\\n",
       "0                                   0                                  0   \n",
       "1                                   0                                  0   \n",
       "2                                   0                                  1   \n",
       "3                                   0                                  0   \n",
       "4                                   0                                  0   \n",
       "\n",
       "   ScorexChangeAtTimeOfListing_29|257  ScorexChangeAtTimeOfListing_NA  \\\n",
       "0                                   0                               1   \n",
       "1                                   0                               1   \n",
       "2                                   0                               0   \n",
       "3                                   0                               1   \n",
       "4                                   0                               1   \n",
       "\n",
       "   CreditScoreRangeLower_660|700  CreditScoreRangeLower_700|740  \\\n",
       "0                              0                              0   \n",
       "1                              0                              0   \n",
       "2                              0                              0   \n",
       "3                              1                              0   \n",
       "4                              1                              0   \n",
       "\n",
       "   CreditScoreRangeLower_740|880  \n",
       "0                              0  \n",
       "1                              0  \n",
       "2                              0  \n",
       "3                              0  \n",
       "4                              0  \n",
       "\n",
       "[5 rows x 30 columns]"
      ]
     },
     "execution_count": 33,
     "metadata": {},
     "output_type": "execute_result"
    }
   ],
   "source": [
    "df_tr_preproc[glm_cols].head()"
   ]
  },
  {
   "cell_type": "code",
   "execution_count": 35,
   "metadata": {
    "ExecuteTime": {
     "end_time": "2019-05-15T21:31:18.382052Z",
     "start_time": "2019-05-15T21:31:18.298663Z"
    }
   },
   "outputs": [],
   "source": [
    "# Predict for all subsets\n",
    "pred_tr = lr.predict_proba(df_tr_preproc[glm_cols])[:, 1]\n",
    "pred_val = lr.predict_proba(df_val_preproc[glm_cols])[:, 1]\n",
    "pred_oot = lr.predict_proba(df_oot_preproc[glm_cols])[:, 1]"
   ]
  },
  {
   "cell_type": "markdown",
   "metadata": {},
   "source": [
    "Vemos que el AUC es alto para la parte de training con una ligera diferencia para validación."
   ]
  },
  {
   "cell_type": "code",
   "execution_count": 36,
   "metadata": {
    "ExecuteTime": {
     "end_time": "2019-05-15T21:31:19.288402Z",
     "start_time": "2019-05-15T21:31:19.246779Z"
    }
   },
   "outputs": [
    {
     "data": {
      "text/plain": [
       "(0.6838508477949512, 0.6671933928665152, 0.6722968401412276)"
      ]
     },
     "execution_count": 36,
     "metadata": {},
     "output_type": "execute_result"
    }
   ],
   "source": [
    "get_auc(y_tr, pred_tr), get_auc(y_val, pred_val), get_auc(y_oot, pred_oot)"
   ]
  },
  {
   "cell_type": "code",
   "execution_count": 37,
   "metadata": {
    "ExecuteTime": {
     "end_time": "2019-05-15T21:31:21.003963Z",
     "start_time": "2019-05-15T21:31:20.959005Z"
    }
   },
   "outputs": [],
   "source": [
    "# Get p-values\n",
    "# Mostly from: https://gist.github.com/rspeare/77061e6e317896be29c6de9a85db301d\n",
    "\n",
    "import scipy.stats as stat\n",
    "def get_p_vals(lr, X):\n",
    "    denom = (2.0*(1.0+np.cosh(lr.decision_function(X))))\n",
    "    denom = np.tile(denom,(X.shape[1],1)).T\n",
    "    F_ij = np.dot((X/denom).T,X) ## Fisher Information Matrix\n",
    "    Cramer_Rao = np.linalg.inv(F_ij) ## Inverse Information Matrix\n",
    "    sigma_estimates = np.sqrt(np.diagonal(Cramer_Rao))\n",
    "    z_scores = lr.coef_[0]/sigma_estimates # z-score for eaach model coefficient\n",
    "    p_values = [stat.norm.sf(abs(x))*2 for x in z_scores] ### two tailed test for p-values#        \n",
    "    return p_values\n",
    "\n",
    "def show_lr_summary(p_values, features, lr):\n",
    "    df_ret = pd.DataFrame({'feature': features,\n",
    "                           'p_val': p_values,\n",
    "                           'betas': lr.coef_.tolist()[0]})[['feature', 'betas', 'p_val']]\n",
    "    return df_ret"
   ]
  },
  {
   "cell_type": "markdown",
   "metadata": {},
   "source": [
    "Con los p valores vemos aquellas variables que aportan más información al conjunto."
   ]
  },
  {
   "cell_type": "code",
   "execution_count": 38,
   "metadata": {
    "ExecuteTime": {
     "end_time": "2019-05-15T21:31:26.263091Z",
     "start_time": "2019-05-15T21:31:25.754776Z"
    }
   },
   "outputs": [
    {
     "data": {
      "text/html": [
       "<div>\n",
       "<style scoped>\n",
       "    .dataframe tbody tr th:only-of-type {\n",
       "        vertical-align: middle;\n",
       "    }\n",
       "\n",
       "    .dataframe tbody tr th {\n",
       "        vertical-align: top;\n",
       "    }\n",
       "\n",
       "    .dataframe thead th {\n",
       "        text-align: right;\n",
       "    }\n",
       "</style>\n",
       "<table border=\"1\" class=\"dataframe\">\n",
       "  <thead>\n",
       "    <tr style=\"text-align: right;\">\n",
       "      <th></th>\n",
       "      <th>feature</th>\n",
       "      <th>betas</th>\n",
       "      <th>p_val</th>\n",
       "    </tr>\n",
       "  </thead>\n",
       "  <tbody>\n",
       "    <tr>\n",
       "      <th>0</th>\n",
       "      <td>CurrentCreditLines_6|9</td>\n",
       "      <td>-0.107116</td>\n",
       "      <td>0.219121</td>\n",
       "    </tr>\n",
       "    <tr>\n",
       "      <th>1</th>\n",
       "      <td>CurrentCreditLines_9|12</td>\n",
       "      <td>-0.162198</td>\n",
       "      <td>0.124510</td>\n",
       "    </tr>\n",
       "    <tr>\n",
       "      <th>2</th>\n",
       "      <td>CurrentCreditLines_12|40</td>\n",
       "      <td>-0.021775</td>\n",
       "      <td>0.839764</td>\n",
       "    </tr>\n",
       "    <tr>\n",
       "      <th>3</th>\n",
       "      <td>TotalTrades_14|21</td>\n",
       "      <td>-0.042806</td>\n",
       "      <td>0.641404</td>\n",
       "    </tr>\n",
       "    <tr>\n",
       "      <th>4</th>\n",
       "      <td>TotalTrades_21|30</td>\n",
       "      <td>-0.069586</td>\n",
       "      <td>0.493220</td>\n",
       "    </tr>\n",
       "    <tr>\n",
       "      <th>5</th>\n",
       "      <td>TotalTrades_30|118</td>\n",
       "      <td>-0.038358</td>\n",
       "      <td>0.740754</td>\n",
       "    </tr>\n",
       "    <tr>\n",
       "      <th>6</th>\n",
       "      <td>StatedMonthlyIncome_3100|4583</td>\n",
       "      <td>-0.107308</td>\n",
       "      <td>0.280804</td>\n",
       "    </tr>\n",
       "    <tr>\n",
       "      <th>7</th>\n",
       "      <td>StatedMonthlyIncome_4583|6667</td>\n",
       "      <td>-0.098603</td>\n",
       "      <td>0.510479</td>\n",
       "    </tr>\n",
       "    <tr>\n",
       "      <th>8</th>\n",
       "      <td>StatedMonthlyIncome_6667|483333</td>\n",
       "      <td>-0.394766</td>\n",
       "      <td>0.026581</td>\n",
       "    </tr>\n",
       "    <tr>\n",
       "      <th>9</th>\n",
       "      <td>IsBorrowerHomeowner_0.5|1</td>\n",
       "      <td>-0.058648</td>\n",
       "      <td>0.420069</td>\n",
       "    </tr>\n",
       "    <tr>\n",
       "      <th>10</th>\n",
       "      <td>IncomeRange_$25,000-49,999</td>\n",
       "      <td>0.220019</td>\n",
       "      <td>0.204580</td>\n",
       "    </tr>\n",
       "    <tr>\n",
       "      <th>11</th>\n",
       "      <td>IncomeRange_$50,000-74,999</td>\n",
       "      <td>-0.017133</td>\n",
       "      <td>0.920575</td>\n",
       "    </tr>\n",
       "    <tr>\n",
       "      <th>12</th>\n",
       "      <td>IncomeRange_$75,000-99,999</td>\n",
       "      <td>-0.038790</td>\n",
       "      <td>0.784027</td>\n",
       "    </tr>\n",
       "    <tr>\n",
       "      <th>13</th>\n",
       "      <td>IncomeRange_Other</td>\n",
       "      <td>0.216978</td>\n",
       "      <td>0.261731</td>\n",
       "    </tr>\n",
       "    <tr>\n",
       "      <th>14</th>\n",
       "      <td>Occupation_Executive</td>\n",
       "      <td>-0.061300</td>\n",
       "      <td>0.803778</td>\n",
       "    </tr>\n",
       "    <tr>\n",
       "      <th>15</th>\n",
       "      <td>Occupation_Other</td>\n",
       "      <td>0.114429</td>\n",
       "      <td>0.464422</td>\n",
       "    </tr>\n",
       "    <tr>\n",
       "      <th>16</th>\n",
       "      <td>Occupation_Professional</td>\n",
       "      <td>-0.007956</td>\n",
       "      <td>0.964730</td>\n",
       "    </tr>\n",
       "    <tr>\n",
       "      <th>17</th>\n",
       "      <td>AmountDelinquent_124604|249209</td>\n",
       "      <td>-0.003604</td>\n",
       "      <td>0.998324</td>\n",
       "    </tr>\n",
       "    <tr>\n",
       "      <th>18</th>\n",
       "      <td>InquiriesLast6Months_1|2</td>\n",
       "      <td>0.199501</td>\n",
       "      <td>0.033153</td>\n",
       "    </tr>\n",
       "    <tr>\n",
       "      <th>19</th>\n",
       "      <td>InquiriesLast6Months_2|27</td>\n",
       "      <td>0.410489</td>\n",
       "      <td>0.000002</td>\n",
       "    </tr>\n",
       "    <tr>\n",
       "      <th>20</th>\n",
       "      <td>MonthlyLoanPayment_125|181</td>\n",
       "      <td>0.275475</td>\n",
       "      <td>0.001448</td>\n",
       "    </tr>\n",
       "    <tr>\n",
       "      <th>21</th>\n",
       "      <td>MonthlyLoanPayment_181|309</td>\n",
       "      <td>0.042970</td>\n",
       "      <td>0.648050</td>\n",
       "    </tr>\n",
       "    <tr>\n",
       "      <th>22</th>\n",
       "      <td>MonthlyLoanPayment_309|2112</td>\n",
       "      <td>0.182943</td>\n",
       "      <td>0.063686</td>\n",
       "    </tr>\n",
       "    <tr>\n",
       "      <th>23</th>\n",
       "      <td>ScorexChangeAtTimeOfListing_-32|-3</td>\n",
       "      <td>-0.119076</td>\n",
       "      <td>0.472988</td>\n",
       "    </tr>\n",
       "    <tr>\n",
       "      <th>24</th>\n",
       "      <td>ScorexChangeAtTimeOfListing_-3|29</td>\n",
       "      <td>-0.232109</td>\n",
       "      <td>0.178030</td>\n",
       "    </tr>\n",
       "    <tr>\n",
       "      <th>25</th>\n",
       "      <td>ScorexChangeAtTimeOfListing_29|257</td>\n",
       "      <td>-0.233949</td>\n",
       "      <td>0.181933</td>\n",
       "    </tr>\n",
       "    <tr>\n",
       "      <th>26</th>\n",
       "      <td>ScorexChangeAtTimeOfListing_NA</td>\n",
       "      <td>0.230884</td>\n",
       "      <td>0.053513</td>\n",
       "    </tr>\n",
       "    <tr>\n",
       "      <th>27</th>\n",
       "      <td>CreditScoreRangeLower_660|700</td>\n",
       "      <td>-0.007902</td>\n",
       "      <td>0.922905</td>\n",
       "    </tr>\n",
       "    <tr>\n",
       "      <th>28</th>\n",
       "      <td>CreditScoreRangeLower_700|740</td>\n",
       "      <td>-0.161817</td>\n",
       "      <td>0.081892</td>\n",
       "    </tr>\n",
       "    <tr>\n",
       "      <th>29</th>\n",
       "      <td>CreditScoreRangeLower_740|880</td>\n",
       "      <td>-0.348903</td>\n",
       "      <td>0.001437</td>\n",
       "    </tr>\n",
       "  </tbody>\n",
       "</table>\n",
       "</div>"
      ],
      "text/plain": [
       "                               feature     betas     p_val\n",
       "0               CurrentCreditLines_6|9 -0.107116  0.219121\n",
       "1              CurrentCreditLines_9|12 -0.162198  0.124510\n",
       "2             CurrentCreditLines_12|40 -0.021775  0.839764\n",
       "3                    TotalTrades_14|21 -0.042806  0.641404\n",
       "4                    TotalTrades_21|30 -0.069586  0.493220\n",
       "5                   TotalTrades_30|118 -0.038358  0.740754\n",
       "6        StatedMonthlyIncome_3100|4583 -0.107308  0.280804\n",
       "7        StatedMonthlyIncome_4583|6667 -0.098603  0.510479\n",
       "8      StatedMonthlyIncome_6667|483333 -0.394766  0.026581\n",
       "9            IsBorrowerHomeowner_0.5|1 -0.058648  0.420069\n",
       "10          IncomeRange_$25,000-49,999  0.220019  0.204580\n",
       "11          IncomeRange_$50,000-74,999 -0.017133  0.920575\n",
       "12          IncomeRange_$75,000-99,999 -0.038790  0.784027\n",
       "13                   IncomeRange_Other  0.216978  0.261731\n",
       "14                Occupation_Executive -0.061300  0.803778\n",
       "15                    Occupation_Other  0.114429  0.464422\n",
       "16             Occupation_Professional -0.007956  0.964730\n",
       "17      AmountDelinquent_124604|249209 -0.003604  0.998324\n",
       "18            InquiriesLast6Months_1|2  0.199501  0.033153\n",
       "19           InquiriesLast6Months_2|27  0.410489  0.000002\n",
       "20          MonthlyLoanPayment_125|181  0.275475  0.001448\n",
       "21          MonthlyLoanPayment_181|309  0.042970  0.648050\n",
       "22         MonthlyLoanPayment_309|2112  0.182943  0.063686\n",
       "23  ScorexChangeAtTimeOfListing_-32|-3 -0.119076  0.472988\n",
       "24   ScorexChangeAtTimeOfListing_-3|29 -0.232109  0.178030\n",
       "25  ScorexChangeAtTimeOfListing_29|257 -0.233949  0.181933\n",
       "26      ScorexChangeAtTimeOfListing_NA  0.230884  0.053513\n",
       "27       CreditScoreRangeLower_660|700 -0.007902  0.922905\n",
       "28       CreditScoreRangeLower_700|740 -0.161817  0.081892\n",
       "29       CreditScoreRangeLower_740|880 -0.348903  0.001437"
      ]
     },
     "execution_count": 38,
     "metadata": {},
     "output_type": "execute_result"
    }
   ],
   "source": [
    "# If there was any issue with the data (high correlations...)\n",
    "# This would be messy, with NAs, or maybe not even able to run\n",
    "p_values = get_p_vals(lr, df_tr_preproc[glm_cols])\n",
    "show_lr_summary(p_values, glm_cols, lr)"
   ]
  },
  {
   "cell_type": "markdown",
   "metadata": {},
   "source": [
    "#### P-value based feature selection"
   ]
  },
  {
   "cell_type": "code",
   "execution_count": 39,
   "metadata": {
    "ExecuteTime": {
     "end_time": "2019-05-15T21:32:20.370604Z",
     "start_time": "2019-05-15T21:31:43.047359Z"
    }
   },
   "outputs": [],
   "source": [
    "# remove each bucket with the highest p-value N times\n",
    "# assess how the AUC changes\n",
    "N_iterations = len(glm_cols) - 3\n",
    "glm_cols_pvals = [c for c in glm_cols]\n",
    "\n",
    "# keep the AUCs in each interation \n",
    "auc_train, auc_val, auc_oot = [], [], []\n",
    "# List of tuples where all selected features status will \n",
    "# be stored per iteration\n",
    "features_it_pval = []\n",
    "\n",
    "# for each iteration\n",
    "for it in range(N_iterations):\n",
    "    #capture the feature to be dropped\n",
    "    #in the first iteration we are using the p_values from the model trained 'outside'\n",
    "    feat_drop = [feat for feat, p in zip(glm_cols_pvals, p_values) if p == max(p_values)][0]\n",
    "    glm_cols_pvals.remove(feat_drop)\n",
    "    #re-train the model\n",
    "    lr_it = LogisticRegression(solver='lbfgs', C=0.01)\n",
    "    lr_it.fit(df_tr_preproc[glm_cols_pvals], y_tr)\n",
    "    # Predict for all subsets\n",
    "    pred_tr = lr_it.predict_proba(df_tr_preproc[glm_cols_pvals])[:, 1]\n",
    "    pred_val = lr_it.predict_proba(df_val_preproc[glm_cols_pvals])[:, 1]\n",
    "    pred_oot = lr_it.predict_proba(df_oot_preproc[glm_cols_pvals])[:, 1]\n",
    "    #get aucs\n",
    "    auc_train.append(get_auc(y_tr, pred_tr))\n",
    "    auc_val.append(get_auc(y_val, pred_val)) \n",
    "    auc_oot.append(get_auc(y_oot, pred_oot))\n",
    "    #get p-values\n",
    "    p_values = get_p_vals(lr_it, df_tr_preproc[glm_cols_pvals])\n",
    "    #keep features status at iteration\n",
    "    features_it_pval.append((it, [c for c in glm_cols_pvals]))"
   ]
  },
  {
   "cell_type": "code",
   "execution_count": 40,
   "metadata": {
    "ExecuteTime": {
     "end_time": "2019-05-15T21:32:20.907606Z",
     "start_time": "2019-05-15T21:32:20.380909Z"
    }
   },
   "outputs": [
    {
     "data": {
      "text/plain": [
       "<matplotlib.legend.Legend at 0x1aeeece9b38>"
      ]
     },
     "execution_count": 40,
     "metadata": {},
     "output_type": "execute_result"
    },
    {
     "data": {
      "image/png": "[encoded data removed]",
      "text/plain": [
       "<Figure size 432x288 with 1 Axes>"
      ]
     },
     "metadata": {
      "needs_background": "light"
     },
     "output_type": "display_data"
    }
   ],
   "source": [
    "# Plot AUCs in each iteration\n",
    "iterations = [i for i in range(N_iterations)]\n",
    "plt.plot(iterations, auc_train, label='Train')\n",
    "plt.plot(iterations, auc_val, label='Val')\n",
    "plt.plot(iterations, auc_oot, label='OOT')\n",
    "plt.legend()"
   ]
  },
  {
   "cell_type": "code",
   "execution_count": 41,
   "metadata": {
    "ExecuteTime": {
     "end_time": "2019-05-15T21:32:21.413331Z",
     "start_time": "2019-05-15T21:32:20.915613Z"
    }
   },
   "outputs": [
    {
     "data": {
      "text/plain": [
       "LogisticRegression(C=0.01, class_weight=None, dual=False, fit_intercept=True,\n",
       "          intercept_scaling=1, max_iter=100, multi_class='warn',\n",
       "          n_jobs=None, penalty='l2', random_state=None, solver='lbfgs',\n",
       "          tol=0.0001, verbose=0, warm_start=False)"
      ]
     },
     "execution_count": 41,
     "metadata": {},
     "output_type": "execute_result"
    }
   ],
   "source": [
    "# At iteration 40 more or less it stays stable\n",
    "final_features_bucketing = [feats for it, feats in features_it_pval if it==26][0]\n",
    "# Train the final model with the interesting buckets\n",
    "lr_final = LogisticRegression(solver='lbfgs', C=0.01)\n",
    "lr_final.fit(df_tr_preproc[final_features_bucketing], y_tr)"
   ]
  },
  {
   "cell_type": "code",
   "execution_count": 42,
   "metadata": {},
   "outputs": [
    {
     "data": {
      "text/html": [
       "<div>\n",
       "<style scoped>\n",
       "    .dataframe tbody tr th:only-of-type {\n",
       "        vertical-align: middle;\n",
       "    }\n",
       "\n",
       "    .dataframe tbody tr th {\n",
       "        vertical-align: top;\n",
       "    }\n",
       "\n",
       "    .dataframe thead th {\n",
       "        text-align: right;\n",
       "    }\n",
       "</style>\n",
       "<table border=\"1\" class=\"dataframe\">\n",
       "  <thead>\n",
       "    <tr style=\"text-align: right;\">\n",
       "      <th></th>\n",
       "      <th>StatedMonthlyIncome_6667|483333</th>\n",
       "      <th>InquiriesLast6Months_2|27</th>\n",
       "      <th>ScorexChangeAtTimeOfListing_NA</th>\n",
       "    </tr>\n",
       "  </thead>\n",
       "  <tbody>\n",
       "    <tr>\n",
       "      <th>0</th>\n",
       "      <td>0</td>\n",
       "      <td>0</td>\n",
       "      <td>1</td>\n",
       "    </tr>\n",
       "    <tr>\n",
       "      <th>1</th>\n",
       "      <td>0</td>\n",
       "      <td>0</td>\n",
       "      <td>1</td>\n",
       "    </tr>\n",
       "    <tr>\n",
       "      <th>2</th>\n",
       "      <td>0</td>\n",
       "      <td>0</td>\n",
       "      <td>0</td>\n",
       "    </tr>\n",
       "    <tr>\n",
       "      <th>3</th>\n",
       "      <td>0</td>\n",
       "      <td>0</td>\n",
       "      <td>1</td>\n",
       "    </tr>\n",
       "    <tr>\n",
       "      <th>4</th>\n",
       "      <td>0</td>\n",
       "      <td>0</td>\n",
       "      <td>1</td>\n",
       "    </tr>\n",
       "  </tbody>\n",
       "</table>\n",
       "</div>"
      ],
      "text/plain": [
       "   StatedMonthlyIncome_6667|483333  InquiriesLast6Months_2|27  \\\n",
       "0                                0                          0   \n",
       "1                                0                          0   \n",
       "2                                0                          0   \n",
       "3                                0                          0   \n",
       "4                                0                          0   \n",
       "\n",
       "   ScorexChangeAtTimeOfListing_NA  \n",
       "0                               1  \n",
       "1                               1  \n",
       "2                               0  \n",
       "3                               1  \n",
       "4                               1  "
      ]
     },
     "execution_count": 42,
     "metadata": {},
     "output_type": "execute_result"
    }
   ],
   "source": [
    "df_tr_preproc[final_features_bucketing].head()"
   ]
  },
  {
   "cell_type": "code",
   "execution_count": 43,
   "metadata": {
    "ExecuteTime": {
     "end_time": "2019-05-15T21:32:21.502326Z",
     "start_time": "2019-05-15T21:32:21.421221Z"
    }
   },
   "outputs": [
    {
     "data": {
      "text/plain": [
       "(0.6223646270543316, 0.620465187334578, 0.6010930048489371)"
      ]
     },
     "execution_count": 43,
     "metadata": {},
     "output_type": "execute_result"
    }
   ],
   "source": [
    "# Predict for all subsets\n",
    "pred_tr = lr_final.predict_proba(df_tr_preproc[final_features_bucketing])[:, 1]\n",
    "pred_val = lr_final.predict_proba(df_val_preproc[final_features_bucketing])[:, 1]\n",
    "pred_oot = lr_final.predict_proba(df_oot_preproc[final_features_bucketing])[:, 1]\n",
    "\n",
    "get_auc(y_tr, pred_tr), get_auc(y_val, pred_val), get_auc(y_oot, pred_oot)"
   ]
  },
  {
   "cell_type": "code",
   "execution_count": 44,
   "metadata": {
    "ExecuteTime": {
     "end_time": "2019-05-15T21:32:21.698146Z",
     "start_time": "2019-05-15T21:32:21.509227Z"
    }
   },
   "outputs": [
    {
     "data": {
      "text/html": [
       "<div>\n",
       "<style scoped>\n",
       "    .dataframe tbody tr th:only-of-type {\n",
       "        vertical-align: middle;\n",
       "    }\n",
       "\n",
       "    .dataframe tbody tr th {\n",
       "        vertical-align: top;\n",
       "    }\n",
       "\n",
       "    .dataframe thead th {\n",
       "        text-align: right;\n",
       "    }\n",
       "</style>\n",
       "<table border=\"1\" class=\"dataframe\">\n",
       "  <thead>\n",
       "    <tr style=\"text-align: right;\">\n",
       "      <th></th>\n",
       "      <th>feature</th>\n",
       "      <th>betas</th>\n",
       "      <th>p_val</th>\n",
       "    </tr>\n",
       "  </thead>\n",
       "  <tbody>\n",
       "    <tr>\n",
       "      <th>0</th>\n",
       "      <td>StatedMonthlyIncome_6667|483333</td>\n",
       "      <td>-0.484233</td>\n",
       "      <td>2.482106e-09</td>\n",
       "    </tr>\n",
       "    <tr>\n",
       "      <th>1</th>\n",
       "      <td>InquiriesLast6Months_2|27</td>\n",
       "      <td>0.403877</td>\n",
       "      <td>4.376445e-07</td>\n",
       "    </tr>\n",
       "    <tr>\n",
       "      <th>2</th>\n",
       "      <td>ScorexChangeAtTimeOfListing_NA</td>\n",
       "      <td>0.329678</td>\n",
       "      <td>2.435708e-15</td>\n",
       "    </tr>\n",
       "  </tbody>\n",
       "</table>\n",
       "</div>"
      ],
      "text/plain": [
       "                           feature     betas         p_val\n",
       "0  StatedMonthlyIncome_6667|483333 -0.484233  2.482106e-09\n",
       "1        InquiriesLast6Months_2|27  0.403877  4.376445e-07\n",
       "2   ScorexChangeAtTimeOfListing_NA  0.329678  2.435708e-15"
      ]
     },
     "execution_count": 44,
     "metadata": {},
     "output_type": "execute_result"
    }
   ],
   "source": [
    "p_values = get_p_vals(lr_final, df_tr_preproc[final_features_bucketing])\n",
    "show_lr_summary(p_values, final_features_bucketing, lr_final)"
   ]
  },
  {
   "cell_type": "markdown",
   "metadata": {
    "ExecuteTime": {
     "end_time": "2019-05-15T10:56:52.402451Z",
     "start_time": "2019-05-15T10:56:52.390838Z"
    }
   },
   "source": [
    "#### AUC based feature selection"
   ]
  },
  {
   "cell_type": "code",
   "execution_count": 45,
   "metadata": {
    "ExecuteTime": {
     "end_time": "2019-05-15T21:46:45.039235Z",
     "start_time": "2019-05-15T21:32:21.711350Z"
    }
   },
   "outputs": [
    {
     "name": "stdout",
     "output_type": "stream",
     "text": [
      "Working for iteration: 0\n",
      "Working for iteration: 1\n",
      "Working for iteration: 2\n",
      "Working for iteration: 3\n",
      "Working for iteration: 4\n",
      "Working for iteration: 5\n",
      "Working for iteration: 6\n",
      "Working for iteration: 7\n",
      "Working for iteration: 8\n",
      "Working for iteration: 9\n",
      "Working for iteration: 10\n",
      "Working for iteration: 11\n",
      "Working for iteration: 12\n",
      "Working for iteration: 13\n",
      "Working for iteration: 14\n",
      "Working for iteration: 15\n",
      "Working for iteration: 16\n",
      "Working for iteration: 17\n",
      "Working for iteration: 18\n",
      "Working for iteration: 19\n",
      "Working for iteration: 20\n",
      "Working for iteration: 21\n",
      "Working for iteration: 22\n",
      "Working for iteration: 23\n",
      "Working for iteration: 24\n",
      "Working for iteration: 25\n",
      "Working for iteration: 26\n"
     ]
    }
   ],
   "source": [
    "# Try to remove all available features.\n",
    "# Remove the feature that has the lowest impact in AUC\n",
    "N_iterations = len(glm_cols) - 3\n",
    "glm_cols_auc = [c for c in glm_cols]\n",
    "\n",
    "auc_train, auc_val, auc_oot = [], [], []\n",
    "features_it_auc = []\n",
    "for it in range(N_iterations):\n",
    "    print('Working for iteration: {}'.format(str(it)))\n",
    "    #re-train the model\n",
    "    lr_it = LogisticRegression(solver='lbfgs', C=0.01)\n",
    "    lr_it.fit(df_tr_preproc[glm_cols_auc], y_tr)\n",
    "    # Predict for all subsets\n",
    "    pred_tr = lr_it.predict_proba(df_tr_preproc[glm_cols_auc])[:, 1]\n",
    "    pred_val = lr_it.predict_proba(df_val_preproc[glm_cols_auc])[:, 1]\n",
    "    pred_oot = lr_it.predict_proba(df_oot_preproc[glm_cols_auc])[:, 1]\n",
    "    #get base aucs\n",
    "    auc_train_it, auc_val_it, auc_oot_it = get_auc(y_tr, pred_tr), get_auc(y_val, pred_val), get_auc(y_oot, pred_oot)\n",
    "    auc_train.append(auc_train_it)\n",
    "    auc_val.append(auc_val_it) \n",
    "    auc_oot.append(auc_oot_it)\n",
    "    #set up minimum gap\n",
    "    min_gap = 500\n",
    "    for feat_eval in glm_cols_auc:\n",
    "        #use validation AUC only as evaluation metric\n",
    "        #keep features in iteration it, but the feature under evaluation\n",
    "        glm_cols_auc_ev = [c for c in glm_cols_auc if c!=feat_eval]\n",
    "        lr_it_ev = LogisticRegression(solver='lbfgs', C=0.01)\n",
    "        lr_it_ev.fit(df_tr_preproc[glm_cols_auc_ev], y_tr)\n",
    "        #predit @ val data\n",
    "        pred_val = lr_it_ev.predict_proba(df_val_preproc[glm_cols_auc_ev])[:, 1]\n",
    "        #get auc @ val\n",
    "        auc_val_it_ev = get_auc(y_val, pred_val)\n",
    "        #check gap\n",
    "        gap_val_auc = auc_val_it - auc_val_it_ev\n",
    "        #capture the feature that has the lowest AUC impact\n",
    "        if gap_val_auc < min_gap:\n",
    "            candidate_drop = feat_eval\n",
    "            min_gap = gap_val_auc\n",
    "    #remove from the feature set the selected feature\n",
    "    glm_cols_auc.remove(candidate_drop)\n",
    "    #keep features status at iteration\n",
    "    features_it_auc.append((it, [c for c in glm_cols_auc]))"
   ]
  },
  {
   "cell_type": "code",
   "execution_count": 46,
   "metadata": {
    "ExecuteTime": {
     "end_time": "2019-05-15T21:46:45.585036Z",
     "start_time": "2019-05-15T21:46:45.049170Z"
    }
   },
   "outputs": [
    {
     "data": {
      "text/plain": [
       "<matplotlib.legend.Legend at 0x1aeeeff2198>"
      ]
     },
     "execution_count": 46,
     "metadata": {},
     "output_type": "execute_result"
    },
    {
     "data": {
      "image/png": "[encoded data removed]",
      "text/plain": [
       "<Figure size 432x288 with 1 Axes>"
      ]
     },
     "metadata": {
      "needs_background": "light"
     },
     "output_type": "display_data"
    }
   ],
   "source": [
    "# Plot AUCs in each iteration\n",
    "iterations = [i for i in range(N_iterations)]\n",
    "plt.plot(iterations, auc_train, label='Train')\n",
    "plt.plot(iterations, auc_val, label='Val')\n",
    "plt.plot(iterations, auc_oot, label='OOT')\n",
    "plt.legend()"
   ]
  },
  {
   "cell_type": "code",
   "execution_count": 47,
   "metadata": {
    "ExecuteTime": {
     "end_time": "2019-05-15T21:46:45.889637Z",
     "start_time": "2019-05-15T21:46:45.592698Z"
    }
   },
   "outputs": [
    {
     "data": {
      "text/plain": [
       "LogisticRegression(C=0.01, class_weight=None, dual=False, fit_intercept=True,\n",
       "          intercept_scaling=1, max_iter=100, multi_class='warn',\n",
       "          n_jobs=None, penalty='l2', random_state=None, solver='lbfgs',\n",
       "          tol=0.0001, verbose=0, warm_start=False)"
      ]
     },
     "execution_count": 47,
     "metadata": {},
     "output_type": "execute_result"
    }
   ],
   "source": [
    "# get the iteration where it stays stable\n",
    "final_features_bucketing_auc = [feats for it, feats in features_it_auc if it==26][0]\n",
    "# Train the final model with the interesting buckets\n",
    "lr_final_auc = LogisticRegression(solver='lbfgs', C=0.01)\n",
    "lr_final_auc.fit(df_tr_preproc[final_features_bucketing_auc], y_tr)"
   ]
  },
  {
   "cell_type": "code",
   "execution_count": 48,
   "metadata": {
    "ExecuteTime": {
     "end_time": "2019-05-15T21:46:45.967011Z",
     "start_time": "2019-05-15T21:46:45.897129Z"
    }
   },
   "outputs": [
    {
     "data": {
      "text/plain": [
       "(0.6223646270543316, 0.620465187334578, 0.6010930048489371)"
      ]
     },
     "execution_count": 48,
     "metadata": {},
     "output_type": "execute_result"
    }
   ],
   "source": [
    "# Predict for all subsets\n",
    "pred_tr = lr_final_auc.predict_proba(df_tr_preproc[final_features_bucketing_auc])[:, 1]\n",
    "pred_val = lr_final_auc.predict_proba(df_val_preproc[final_features_bucketing_auc])[:, 1]\n",
    "pred_oot = lr_final_auc.predict_proba(df_oot_preproc[final_features_bucketing_auc])[:, 1]\n",
    "\n",
    "get_auc(y_tr, pred_tr), get_auc(y_val, pred_val), get_auc(y_oot, pred_oot)"
   ]
  },
  {
   "cell_type": "markdown",
   "metadata": {},
   "source": [
    "#### Gain Table"
   ]
  },
  {
   "cell_type": "code",
   "execution_count": 49,
   "metadata": {
    "ExecuteTime": {
     "end_time": "2019-05-16T07:54:59.237749Z",
     "start_time": "2019-05-16T07:54:59.059627Z"
    }
   },
   "outputs": [
    {
     "data": {
      "text/html": [
       "<div>\n",
       "<style scoped>\n",
       "    .dataframe tbody tr th:only-of-type {\n",
       "        vertical-align: middle;\n",
       "    }\n",
       "\n",
       "    .dataframe tbody tr th {\n",
       "        vertical-align: top;\n",
       "    }\n",
       "\n",
       "    .dataframe thead th {\n",
       "        text-align: right;\n",
       "    }\n",
       "</style>\n",
       "<table border=\"1\" class=\"dataframe\">\n",
       "  <thead>\n",
       "    <tr style=\"text-align: right;\">\n",
       "      <th></th>\n",
       "      <th>N</th>\n",
       "      <th>avg_pred</th>\n",
       "      <th>BR</th>\n",
       "      <th>N_bads</th>\n",
       "      <th>N_goods</th>\n",
       "      <th>pct_bad_acum</th>\n",
       "      <th>pct_approv_acum</th>\n",
       "    </tr>\n",
       "    <tr>\n",
       "      <th>pred_cut</th>\n",
       "      <th></th>\n",
       "      <th></th>\n",
       "      <th></th>\n",
       "      <th></th>\n",
       "      <th></th>\n",
       "      <th></th>\n",
       "      <th></th>\n",
       "    </tr>\n",
       "  </thead>\n",
       "  <tbody>\n",
       "    <tr>\n",
       "      <th>(0.031599999999999996, 0.0448]</th>\n",
       "      <td>0.041394</td>\n",
       "      <td>0.028581</td>\n",
       "      <td>88.0</td>\n",
       "      <td>3079</td>\n",
       "      <td>-3078.958606</td>\n",
       "      <td>23.910849</td>\n",
       "      <td>16.218687</td>\n",
       "    </tr>\n",
       "    <tr>\n",
       "      <th>(0.0448, 0.0519]</th>\n",
       "      <td>0.051470</td>\n",
       "      <td>0.060838</td>\n",
       "      <td>151.0</td>\n",
       "      <td>2482</td>\n",
       "      <td>-2481.948530</td>\n",
       "      <td>43.185525</td>\n",
       "      <td>36.385651</td>\n",
       "    </tr>\n",
       "    <tr>\n",
       "      <th>(0.0519, 0.0707]</th>\n",
       "      <td>0.070428</td>\n",
       "      <td>0.067033</td>\n",
       "      <td>427.0</td>\n",
       "      <td>6370</td>\n",
       "      <td>-6369.929572</td>\n",
       "      <td>92.653568</td>\n",
       "      <td>63.980354</td>\n",
       "    </tr>\n",
       "    <tr>\n",
       "      <th>(0.0707, 0.102]</th>\n",
       "      <td>0.091930</td>\n",
       "      <td>0.126850</td>\n",
       "      <td>120.0</td>\n",
       "      <td>946</td>\n",
       "      <td>-945.908070</td>\n",
       "      <td>100.000000</td>\n",
       "      <td>100.000000</td>\n",
       "    </tr>\n",
       "  </tbody>\n",
       "</table>\n",
       "</div>"
      ],
      "text/plain": [
       "                                       N  avg_pred     BR  N_bads  \\\n",
       "pred_cut                                                            \n",
       "(0.031599999999999996, 0.0448]  0.041394  0.028581   88.0    3079   \n",
       "(0.0448, 0.0519]                0.051470  0.060838  151.0    2482   \n",
       "(0.0519, 0.0707]                0.070428  0.067033  427.0    6370   \n",
       "(0.0707, 0.102]                 0.091930  0.126850  120.0     946   \n",
       "\n",
       "                                    N_goods  pct_bad_acum  pct_approv_acum  \n",
       "pred_cut                                                                    \n",
       "(0.031599999999999996, 0.0448] -3078.958606     23.910849        16.218687  \n",
       "(0.0448, 0.0519]               -2481.948530     43.185525        36.385651  \n",
       "(0.0519, 0.0707]               -6369.929572     92.653568        63.980354  \n",
       "(0.0707, 0.102]                 -945.908070    100.000000       100.000000  "
      ]
     },
     "execution_count": 49,
     "metadata": {},
     "output_type": "execute_result"
    }
   ],
   "source": [
    "# Tabla de eficiencia / Gain table\n",
    "def get_gain_table(pred, df, col_target='bad', n_buckets=10):\n",
    "    \"\"\"Generate the gain table given a population, and its predictions\n",
    "    \n",
    "    Args:\n",
    "        pred: np.array / pd.Series containing predictions\n",
    "        df: Pandas DataFrame containing the population to be assesed\n",
    "        col_target: Name of the target column\n",
    "        n_buckets: Number of buckets for the gain table\n",
    "        \n",
    "    Returns:\n",
    "        Pandas DataFrame representing the gain table\n",
    "    \"\"\"\n",
    "    df['pred'] = pred\n",
    "    df['pred_cut'] = pd.cut(df['pred'], df['pred'].quantile(np.linspace(0, 1, num = n_buckets + 1)), include_lowest=True, duplicates='drop')\n",
    "    \n",
    "    #df['pred_cut'] = pd.qcut(df['pred'], n_buckets + 1)\n",
    "\n",
    "    gain_table = df.groupby('pred_cut').agg({'pred': 'mean',\n",
    "                                              col_target: ['mean', 'sum'],\n",
    "                                             'pred_cut': 'size'})\n",
    "\n",
    "    gain_table.columns = ['N', 'avg_pred', 'BR', 'N_bads']\n",
    "    gain_table['N_goods'] = gain_table['N'] - gain_table['N_bads']\n",
    "    gain_table['pct_bad_acum'] = 100. * gain_table['N_bads'].cumsum() / gain_table['N_bads'].sum()\n",
    "    gain_table['pct_approv_acum'] = 100. * gain_table['N'].cumsum() / gain_table['N'].sum()\n",
    "    gain_table\n",
    "    \n",
    "    return gain_table\n",
    "# gain table for OOT sample\n",
    "get_gain_table(pred_oot, df_oot)"
   ]
  },
  {
   "cell_type": "code",
   "execution_count": 50,
   "metadata": {
    "ExecuteTime": {
     "end_time": "2019-05-16T07:55:12.697413Z",
     "start_time": "2019-05-16T07:55:12.549623Z"
    }
   },
   "outputs": [
    {
     "data": {
      "text/html": [
       "<div>\n",
       "<style scoped>\n",
       "    .dataframe tbody tr th:only-of-type {\n",
       "        vertical-align: middle;\n",
       "    }\n",
       "\n",
       "    .dataframe tbody tr th {\n",
       "        vertical-align: top;\n",
       "    }\n",
       "\n",
       "    .dataframe thead th {\n",
       "        text-align: right;\n",
       "    }\n",
       "</style>\n",
       "<table border=\"1\" class=\"dataframe\">\n",
       "  <thead>\n",
       "    <tr style=\"text-align: right;\">\n",
       "      <th></th>\n",
       "      <th>N</th>\n",
       "      <th>avg_pred</th>\n",
       "      <th>BR</th>\n",
       "      <th>N_bads</th>\n",
       "      <th>N_goods</th>\n",
       "      <th>pct_bad_acum</th>\n",
       "      <th>pct_approv_acum</th>\n",
       "    </tr>\n",
       "    <tr>\n",
       "      <th>pred_cut</th>\n",
       "      <th></th>\n",
       "      <th></th>\n",
       "      <th></th>\n",
       "      <th></th>\n",
       "      <th></th>\n",
       "      <th></th>\n",
       "      <th></th>\n",
       "    </tr>\n",
       "  </thead>\n",
       "  <tbody>\n",
       "    <tr>\n",
       "      <th>(0.032613763560300525, 0.04477976397152378]</th>\n",
       "      <td>0.040748</td>\n",
       "      <td>0.025803</td>\n",
       "      <td>90.0</td>\n",
       "      <td>3488</td>\n",
       "      <td>-3487.959252</td>\n",
       "      <td>20.533349</td>\n",
       "      <td>13.395199</td>\n",
       "    </tr>\n",
       "    <tr>\n",
       "      <th>(0.04477976397152378, 0.05187591401632048]</th>\n",
       "      <td>0.048063</td>\n",
       "      <td>0.055556</td>\n",
       "      <td>14.0</td>\n",
       "      <td>252</td>\n",
       "      <td>-251.951937</td>\n",
       "      <td>22.016836</td>\n",
       "      <td>29.195203</td>\n",
       "    </tr>\n",
       "    <tr>\n",
       "      <th>(0.05187591401632048, 0.05187591401632049]</th>\n",
       "      <td>0.051876</td>\n",
       "      <td>0.044147</td>\n",
       "      <td>155.0</td>\n",
       "      <td>3511</td>\n",
       "      <td>-3510.948124</td>\n",
       "      <td>42.685583</td>\n",
       "      <td>46.248643</td>\n",
       "    </tr>\n",
       "    <tr>\n",
       "      <th>(0.05187591401632049, 0.0707021750719315]</th>\n",
       "      <td>0.070411</td>\n",
       "      <td>0.075462</td>\n",
       "      <td>608.0</td>\n",
       "      <td>8057</td>\n",
       "      <td>-8056.929589</td>\n",
       "      <td>90.115971</td>\n",
       "      <td>69.395202</td>\n",
       "    </tr>\n",
       "    <tr>\n",
       "      <th>(0.0707021750719315, 0.1022862939841142]</th>\n",
       "      <td>0.093099</td>\n",
       "      <td>0.114949</td>\n",
       "      <td>193.0</td>\n",
       "      <td>1679</td>\n",
       "      <td>-1678.906901</td>\n",
       "      <td>100.000000</td>\n",
       "      <td>100.000000</td>\n",
       "    </tr>\n",
       "  </tbody>\n",
       "</table>\n",
       "</div>"
      ],
      "text/plain": [
       "                                                    N  avg_pred     BR  \\\n",
       "pred_cut                                                                 \n",
       "(0.032613763560300525, 0.04477976397152378]  0.040748  0.025803   90.0   \n",
       "(0.04477976397152378, 0.05187591401632048]   0.048063  0.055556   14.0   \n",
       "(0.05187591401632048, 0.05187591401632049]   0.051876  0.044147  155.0   \n",
       "(0.05187591401632049, 0.0707021750719315]    0.070411  0.075462  608.0   \n",
       "(0.0707021750719315, 0.1022862939841142]     0.093099  0.114949  193.0   \n",
       "\n",
       "                                             N_bads      N_goods  \\\n",
       "pred_cut                                                           \n",
       "(0.032613763560300525, 0.04477976397152378]    3488 -3487.959252   \n",
       "(0.04477976397152378, 0.05187591401632048]      252  -251.951937   \n",
       "(0.05187591401632048, 0.05187591401632049]     3511 -3510.948124   \n",
       "(0.05187591401632049, 0.0707021750719315]      8057 -8056.929589   \n",
       "(0.0707021750719315, 0.1022862939841142]       1679 -1678.906901   \n",
       "\n",
       "                                             pct_bad_acum  pct_approv_acum  \n",
       "pred_cut                                                                    \n",
       "(0.032613763560300525, 0.04477976397152378]     20.533349        13.395199  \n",
       "(0.04477976397152378, 0.05187591401632048]      22.016836        29.195203  \n",
       "(0.05187591401632048, 0.05187591401632049]      42.685583        46.248643  \n",
       "(0.05187591401632049, 0.0707021750719315]       90.115971        69.395202  \n",
       "(0.0707021750719315, 0.1022862939841142]       100.000000       100.000000  "
      ]
     },
     "execution_count": 50,
     "metadata": {},
     "output_type": "execute_result"
    }
   ],
   "source": [
    "# gain table for training sample\n",
    "get_gain_table(pred_tr, df_train)"
   ]
  },
  {
   "cell_type": "markdown",
   "metadata": {},
   "source": [
    "### Random Forest"
   ]
  },
  {
   "cell_type": "code",
   "execution_count": 51,
   "metadata": {
    "ExecuteTime": {
     "end_time": "2019-05-15T21:46:46.359824Z",
     "start_time": "2019-05-15T21:46:46.300838Z"
    }
   },
   "outputs": [],
   "source": [
    "# Lighther preprocessing\n",
    "# Handle NAs @ numeric features\n",
    "# fill with a value lower than its minimum\n",
    "# We can reuse previopus categorical preprocessing\n",
    "\n",
    "dtypes = df_train[final_features].dtypes\n",
    "num_feats = dtypes[dtypes!=object].index.values.tolist()\n",
    "cat_feats = dtypes[dtypes==object].index.values.tolist()\n",
    "\n",
    "def get_nafill_rf_num(df, num_features, gap_min=1e6):\n",
    "    \"\"\"Get a dictionary, that will store the value that will be used \n",
    "    to fill NAs in numeric data.\n",
    "    \n",
    "    Args:\n",
    "        df: Pandas Dataframe with the input data\n",
    "        num_features: List with the names of categorical features\n",
    "        gap_min: Gap between minimum value and filling value\n",
    "        \n",
    "    Returns:\n",
    "        Dictionary, with the following structure:\n",
    "        {feature1: fill_val1,\n",
    "         feature2: fill_val2}\n",
    "    \"\"\"\n",
    "    dict_fill = {}\n",
    "    for num_feat in num_features:\n",
    "        dict_fill[num_feat] = df[num_feat].min() - gap_min\n",
    "    return dict_fill\n",
    "    \n",
    "\n",
    "def apply_nafill_rf_num(df, dict_fillrf):\n",
    "    \"\"\"Given a dictionary with the values to be used in NA filling,\n",
    "    use it to fill NAs.\n",
    "    \n",
    "    Args:\n",
    "        df: Pandas Dataframe with the input data\n",
    "        dict_fillrf: Dictionary, that stores filling values\n",
    "        \n",
    "    Returns:\n",
    "        Pandas Dataframe with NA being filled\n",
    "    \"\"\"\n",
    "    df_out = df.copy()\n",
    "    for num_feat in dict_fillrf.keys():\n",
    "        df_out.loc[df_out[num_feat].isna(), num_feat] = dict_fillrf[num_feat]\n",
    "    return df_out"
   ]
  },
  {
   "cell_type": "code",
   "execution_count": 52,
   "metadata": {
    "ExecuteTime": {
     "end_time": "2019-05-15T21:46:47.050672Z",
     "start_time": "2019-05-15T21:46:46.369092Z"
    }
   },
   "outputs": [],
   "source": [
    "#get dictionary to fill values from train\n",
    "dict_nafill = get_nafill_rf_num(df_train, num_feats)\n",
    "#apply it to train, val and oot\n",
    "df_train_fill = apply_nafill_rf_num(df_train, dict_nafill)\n",
    "df_val_fill = apply_nafill_rf_num(df_val, dict_nafill)\n",
    "df_oot_fill = apply_nafill_rf_num(df_oot, dict_nafill)"
   ]
  },
  {
   "cell_type": "code",
   "execution_count": 53,
   "metadata": {
    "ExecuteTime": {
     "end_time": "2019-05-15T21:46:47.272707Z",
     "start_time": "2019-05-15T21:46:47.056863Z"
    }
   },
   "outputs": [],
   "source": [
    "# Keep each column dummy columns in independednt lists\n",
    "# Initialize with the numeric data already filled\n",
    "list_df_tr, list_df_val, list_df_oot = [df_train_fill[num_feats]], [df_val_fill[num_feats]], [df_oot_fill[num_feats]]\n",
    "# Add the bucketing results of categorical data\n",
    "for feat in cat_feats:\n",
    "    list_df_tr.append(apply_bucketing(df_train, feat, dict_bucketing[feat]))\n",
    "    list_df_val.append(apply_bucketing(df_val, feat, dict_bucketing[feat]))\n",
    "    list_df_oot.append(apply_bucketing(df_oot, feat, dict_bucketing[feat]))\n",
    "\n",
    "# Then combine them column-wise\n",
    "df_tr_preproc_rf = pd.concat(list_df_tr, axis=1)\n",
    "df_val_preproc_rf = pd.concat(list_df_val, axis=1)\n",
    "df_oot_preproc_rf = pd.concat(list_df_oot, axis=1)\n",
    "\n",
    "# Keep the final column names\n",
    "keep_cols_rf = df_tr_preproc_rf.columns"
   ]
  },
  {
   "cell_type": "code",
   "execution_count": 54,
   "metadata": {
    "ExecuteTime": {
     "end_time": "2019-05-15T21:46:56.305079Z",
     "start_time": "2019-05-15T21:46:47.282728Z"
    }
   },
   "outputs": [
    {
     "data": {
      "text/plain": [
       "(0.712060094937871, 0.6781159322491396, 0.685994756051596)"
      ]
     },
     "execution_count": 54,
     "metadata": {},
     "output_type": "execute_result"
    }
   ],
   "source": [
    "# Train a RF-Classifier\n",
    "from sklearn.ensemble import RandomForestClassifier\n",
    "rf = RandomForestClassifier(n_estimators=500, \n",
    "                            min_samples_leaf=300, \n",
    "                            max_depth=4, \n",
    "                            n_jobs=4)\n",
    "rf.fit(df_tr_preproc_rf[keep_cols_rf], y_tr)\n",
    "\n",
    "# Predict for all subsets\n",
    "pred_tr = rf.predict_proba(df_tr_preproc_rf[keep_cols_rf])[:, 1]\n",
    "pred_val = rf.predict_proba(df_val_preproc_rf[keep_cols_rf])[:, 1]\n",
    "pred_oot = rf.predict_proba(df_oot_preproc_rf[keep_cols_rf])[:, 1]\n",
    "\n",
    "# Get AUC metrics in all subsets\n",
    "get_auc(y_tr, pred_tr), get_auc(y_val, pred_val), get_auc(y_oot, pred_oot)"
   ]
  },
  {
   "cell_type": "code",
   "execution_count": 55,
   "metadata": {
    "ExecuteTime": {
     "end_time": "2019-05-15T21:46:57.220867Z",
     "start_time": "2019-05-15T21:46:56.322066Z"
    }
   },
   "outputs": [
    {
     "data": {
      "text/html": [
       "<div>\n",
       "<style scoped>\n",
       "    .dataframe tbody tr th:only-of-type {\n",
       "        vertical-align: middle;\n",
       "    }\n",
       "\n",
       "    .dataframe tbody tr th {\n",
       "        vertical-align: top;\n",
       "    }\n",
       "\n",
       "    .dataframe thead th {\n",
       "        text-align: right;\n",
       "    }\n",
       "</style>\n",
       "<table border=\"1\" class=\"dataframe\">\n",
       "  <thead>\n",
       "    <tr style=\"text-align: right;\">\n",
       "      <th></th>\n",
       "      <th>feature</th>\n",
       "      <th>importance</th>\n",
       "    </tr>\n",
       "  </thead>\n",
       "  <tbody>\n",
       "    <tr>\n",
       "      <th>2</th>\n",
       "      <td>StatedMonthlyIncome</td>\n",
       "      <td>0.266404</td>\n",
       "    </tr>\n",
       "    <tr>\n",
       "      <th>7</th>\n",
       "      <td>ScorexChangeAtTimeOfListing</td>\n",
       "      <td>0.158723</td>\n",
       "    </tr>\n",
       "    <tr>\n",
       "      <th>5</th>\n",
       "      <td>InquiriesLast6Months</td>\n",
       "      <td>0.155415</td>\n",
       "    </tr>\n",
       "    <tr>\n",
       "      <th>0</th>\n",
       "      <td>CurrentCreditLines</td>\n",
       "      <td>0.116006</td>\n",
       "    </tr>\n",
       "    <tr>\n",
       "      <th>8</th>\n",
       "      <td>CreditScoreRangeLower</td>\n",
       "      <td>0.096106</td>\n",
       "    </tr>\n",
       "    <tr>\n",
       "      <th>6</th>\n",
       "      <td>MonthlyLoanPayment</td>\n",
       "      <td>0.059079</td>\n",
       "    </tr>\n",
       "    <tr>\n",
       "      <th>1</th>\n",
       "      <td>TotalTrades</td>\n",
       "      <td>0.043248</td>\n",
       "    </tr>\n",
       "    <tr>\n",
       "      <th>4</th>\n",
       "      <td>AmountDelinquent</td>\n",
       "      <td>0.041936</td>\n",
       "    </tr>\n",
       "    <tr>\n",
       "      <th>9</th>\n",
       "      <td>IncomeRange_$25,000-49,999</td>\n",
       "      <td>0.027912</td>\n",
       "    </tr>\n",
       "    <tr>\n",
       "      <th>12</th>\n",
       "      <td>IncomeRange_Other</td>\n",
       "      <td>0.018009</td>\n",
       "    </tr>\n",
       "    <tr>\n",
       "      <th>14</th>\n",
       "      <td>Occupation_Other</td>\n",
       "      <td>0.005346</td>\n",
       "    </tr>\n",
       "    <tr>\n",
       "      <th>3</th>\n",
       "      <td>IsBorrowerHomeowner</td>\n",
       "      <td>0.005173</td>\n",
       "    </tr>\n",
       "    <tr>\n",
       "      <th>10</th>\n",
       "      <td>IncomeRange_$50,000-74,999</td>\n",
       "      <td>0.003840</td>\n",
       "    </tr>\n",
       "    <tr>\n",
       "      <th>11</th>\n",
       "      <td>IncomeRange_$75,000-99,999</td>\n",
       "      <td>0.002122</td>\n",
       "    </tr>\n",
       "    <tr>\n",
       "      <th>13</th>\n",
       "      <td>Occupation_Executive</td>\n",
       "      <td>0.000385</td>\n",
       "    </tr>\n",
       "    <tr>\n",
       "      <th>15</th>\n",
       "      <td>Occupation_Professional</td>\n",
       "      <td>0.000297</td>\n",
       "    </tr>\n",
       "  </tbody>\n",
       "</table>\n",
       "</div>"
      ],
      "text/plain": [
       "                        feature  importance\n",
       "2           StatedMonthlyIncome    0.266404\n",
       "7   ScorexChangeAtTimeOfListing    0.158723\n",
       "5          InquiriesLast6Months    0.155415\n",
       "0            CurrentCreditLines    0.116006\n",
       "8         CreditScoreRangeLower    0.096106\n",
       "6            MonthlyLoanPayment    0.059079\n",
       "1                   TotalTrades    0.043248\n",
       "4              AmountDelinquent    0.041936\n",
       "9    IncomeRange_$25,000-49,999    0.027912\n",
       "12            IncomeRange_Other    0.018009\n",
       "14             Occupation_Other    0.005346\n",
       "3           IsBorrowerHomeowner    0.005173\n",
       "10   IncomeRange_$50,000-74,999    0.003840\n",
       "11   IncomeRange_$75,000-99,999    0.002122\n",
       "13         Occupation_Executive    0.000385\n",
       "15      Occupation_Professional    0.000297"
      ]
     },
     "execution_count": 55,
     "metadata": {},
     "output_type": "execute_result"
    }
   ],
   "source": [
    "# Show Feature importance\n",
    "imp_df = pd.DataFrame({'feature': keep_cols_rf,\n",
    "                       'importance': rf.feature_importances_})\n",
    "imp_df.sort_values(by='importance', ascending=False)"
   ]
  },
  {
   "cell_type": "markdown",
   "metadata": {},
   "source": [
    "### XGBoost"
   ]
  },
  {
   "cell_type": "markdown",
   "metadata": {},
   "source": [
    "Igual que con el anterior modelo vamos a probar el clasificador XGBoost para comparar diferencias."
   ]
  },
  {
   "cell_type": "code",
   "execution_count": 56,
   "metadata": {
    "ExecuteTime": {
     "end_time": "2019-05-15T21:46:59.007214Z",
     "start_time": "2019-05-15T21:46:57.230792Z"
    }
   },
   "outputs": [
    {
     "data": {
      "text/plain": [
       "XGBClassifier(base_score=0.5, booster='gbtree', colsample_bylevel=1,\n",
       "       colsample_bytree=1, gamma=0, learning_rate=0.05, max_delta_step=0,\n",
       "       max_depth=4, min_child_weight=250, missing=None, n_estimators=300,\n",
       "       n_jobs=4, nthread=None, objective='binary:logistic', random_state=0,\n",
       "       reg_alpha=0, reg_lambda=1, scale_pos_weight=1, seed=None,\n",
       "       silent=True, subsample=1)"
      ]
     },
     "execution_count": 56,
     "metadata": {},
     "output_type": "execute_result"
    }
   ],
   "source": [
    "from xgboost import XGBClassifier\n",
    "# Train a XGBoost-Classifier\n",
    "xgb = XGBClassifier(max_depth=4,\n",
    "                    learning_rate=0.05, \n",
    "                    n_estimators=300, \n",
    "                    min_child_weight=250,\n",
    "                    n_jobs=4)\n",
    "xgb.fit(df_tr_preproc_rf[keep_cols_rf], y_tr)"
   ]
  },
  {
   "cell_type": "markdown",
   "metadata": {},
   "source": [
    "El AUC es un tanto mayor aunque también la diferencia con la validación."
   ]
  },
  {
   "cell_type": "code",
   "execution_count": 57,
   "metadata": {
    "ExecuteTime": {
     "end_time": "2019-05-15T21:46:59.267640Z",
     "start_time": "2019-05-15T21:46:59.013844Z"
    }
   },
   "outputs": [
    {
     "data": {
      "text/plain": [
       "(0.7123293363233906, 0.6801148206881555, 0.6809619398105502)"
      ]
     },
     "execution_count": 57,
     "metadata": {},
     "output_type": "execute_result"
    }
   ],
   "source": [
    "# Predict for all subsets\n",
    "pred_tr = xgb.predict_proba(df_tr_preproc_rf[keep_cols_rf])[:, 1]\n",
    "pred_val = xgb.predict_proba(df_val_preproc_rf[keep_cols_rf])[:, 1]\n",
    "pred_oot = xgb.predict_proba(df_oot_preproc_rf[keep_cols_rf])[:, 1]\n",
    "\n",
    "get_auc(y_tr, pred_tr), get_auc(y_val, pred_val), get_auc(y_oot, pred_oot)"
   ]
  },
  {
   "cell_type": "code",
   "execution_count": 58,
   "metadata": {
    "ExecuteTime": {
     "end_time": "2019-05-15T21:46:59.314846Z",
     "start_time": "2019-05-15T21:46:59.273573Z"
    }
   },
   "outputs": [
    {
     "data": {
      "text/html": [
       "<div>\n",
       "<style scoped>\n",
       "    .dataframe tbody tr th:only-of-type {\n",
       "        vertical-align: middle;\n",
       "    }\n",
       "\n",
       "    .dataframe tbody tr th {\n",
       "        vertical-align: top;\n",
       "    }\n",
       "\n",
       "    .dataframe thead th {\n",
       "        text-align: right;\n",
       "    }\n",
       "</style>\n",
       "<table border=\"1\" class=\"dataframe\">\n",
       "  <thead>\n",
       "    <tr style=\"text-align: right;\">\n",
       "      <th></th>\n",
       "      <th>feature</th>\n",
       "      <th>importance</th>\n",
       "    </tr>\n",
       "  </thead>\n",
       "  <tbody>\n",
       "    <tr>\n",
       "      <th>2</th>\n",
       "      <td>StatedMonthlyIncome</td>\n",
       "      <td>0.252802</td>\n",
       "    </tr>\n",
       "    <tr>\n",
       "      <th>6</th>\n",
       "      <td>MonthlyLoanPayment</td>\n",
       "      <td>0.242839</td>\n",
       "    </tr>\n",
       "    <tr>\n",
       "      <th>5</th>\n",
       "      <td>InquiriesLast6Months</td>\n",
       "      <td>0.158157</td>\n",
       "    </tr>\n",
       "    <tr>\n",
       "      <th>8</th>\n",
       "      <td>CreditScoreRangeLower</td>\n",
       "      <td>0.134496</td>\n",
       "    </tr>\n",
       "    <tr>\n",
       "      <th>7</th>\n",
       "      <td>ScorexChangeAtTimeOfListing</td>\n",
       "      <td>0.084682</td>\n",
       "    </tr>\n",
       "    <tr>\n",
       "      <th>1</th>\n",
       "      <td>TotalTrades</td>\n",
       "      <td>0.058531</td>\n",
       "    </tr>\n",
       "    <tr>\n",
       "      <th>0</th>\n",
       "      <td>CurrentCreditLines</td>\n",
       "      <td>0.057285</td>\n",
       "    </tr>\n",
       "    <tr>\n",
       "      <th>3</th>\n",
       "      <td>IsBorrowerHomeowner</td>\n",
       "      <td>0.009963</td>\n",
       "    </tr>\n",
       "    <tr>\n",
       "      <th>4</th>\n",
       "      <td>AmountDelinquent</td>\n",
       "      <td>0.001245</td>\n",
       "    </tr>\n",
       "    <tr>\n",
       "      <th>9</th>\n",
       "      <td>IncomeRange_$25,000-49,999</td>\n",
       "      <td>0.000000</td>\n",
       "    </tr>\n",
       "    <tr>\n",
       "      <th>10</th>\n",
       "      <td>IncomeRange_$50,000-74,999</td>\n",
       "      <td>0.000000</td>\n",
       "    </tr>\n",
       "    <tr>\n",
       "      <th>11</th>\n",
       "      <td>IncomeRange_$75,000-99,999</td>\n",
       "      <td>0.000000</td>\n",
       "    </tr>\n",
       "    <tr>\n",
       "      <th>12</th>\n",
       "      <td>IncomeRange_Other</td>\n",
       "      <td>0.000000</td>\n",
       "    </tr>\n",
       "    <tr>\n",
       "      <th>13</th>\n",
       "      <td>Occupation_Executive</td>\n",
       "      <td>0.000000</td>\n",
       "    </tr>\n",
       "    <tr>\n",
       "      <th>14</th>\n",
       "      <td>Occupation_Other</td>\n",
       "      <td>0.000000</td>\n",
       "    </tr>\n",
       "    <tr>\n",
       "      <th>15</th>\n",
       "      <td>Occupation_Professional</td>\n",
       "      <td>0.000000</td>\n",
       "    </tr>\n",
       "  </tbody>\n",
       "</table>\n",
       "</div>"
      ],
      "text/plain": [
       "                        feature  importance\n",
       "2           StatedMonthlyIncome    0.252802\n",
       "6            MonthlyLoanPayment    0.242839\n",
       "5          InquiriesLast6Months    0.158157\n",
       "8         CreditScoreRangeLower    0.134496\n",
       "7   ScorexChangeAtTimeOfListing    0.084682\n",
       "1                   TotalTrades    0.058531\n",
       "0            CurrentCreditLines    0.057285\n",
       "3           IsBorrowerHomeowner    0.009963\n",
       "4              AmountDelinquent    0.001245\n",
       "9    IncomeRange_$25,000-49,999    0.000000\n",
       "10   IncomeRange_$50,000-74,999    0.000000\n",
       "11   IncomeRange_$75,000-99,999    0.000000\n",
       "12            IncomeRange_Other    0.000000\n",
       "13         Occupation_Executive    0.000000\n",
       "14             Occupation_Other    0.000000\n",
       "15      Occupation_Professional    0.000000"
      ]
     },
     "execution_count": 58,
     "metadata": {},
     "output_type": "execute_result"
    }
   ],
   "source": [
    "# Sow feature importance\n",
    "imp_df = pd.DataFrame({'feature': keep_cols_rf,\n",
    "                       'importance': xgb.feature_importances_})\n",
    "imp_df.sort_values(by='importance', ascending=False)"
   ]
  }
 ],
 "metadata": {
  "kernelspec": {
   "display_name": "Python 3",
   "language": "python",
   "name": "python3"
  },
  "language_info": {
   "codemirror_mode": {
    "name": "ipython",
    "version": 3
   },
   "file_extension": ".py",
   "mimetype": "text/x-python",
   "name": "python",
   "nbconvert_exporter": "python",
   "pygments_lexer": "ipython3",
   "version": "3.7.2"
  },
  "toc": {
   "base_numbering": 1,
   "nav_menu": {},
   "number_sections": true,
   "sideBar": true,
   "skip_h1_title": false,
   "title_cell": "Table of Contents",
   "title_sidebar": "Contents",
   "toc_cell": false,
   "toc_position": {},
   "toc_section_display": true,
   "toc_window_display": true
  }
 },
 "nbformat": 4,
 "nbformat_minor": 2
}
